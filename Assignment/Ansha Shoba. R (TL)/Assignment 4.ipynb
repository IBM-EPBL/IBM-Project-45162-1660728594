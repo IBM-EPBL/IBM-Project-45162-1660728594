{
  "nbformat": 4,
  "nbformat_minor": 0,
  "metadata": {
    "colab": {
      "provenance": []
    },
    "kernelspec": {
      "name": "python3",
      "display_name": "Python 3"
    },
    "language_info": {
      "name": "python"
    }
  },
  "cells": [
    {
      "cell_type": "code",
      "source": [
        "from google.colab import files\n",
        "uploaded = files.upload()"
      ],
      "metadata": {
        "colab": {
          "base_uri": "https://localhost:8080/",
          "height": 73
        },
        "id": "yKqJliW8wxmS",
        "outputId": "99dcc19c-0ca4-4e04-fb3b-a2ee9a2e9f19"
      },
      "execution_count": 7,
      "outputs": [
        {
          "output_type": "display_data",
          "data": {
            "text/plain": [
              "<IPython.core.display.HTML object>"
            ],
            "text/html": [
              "\n",
              "     <input type=\"file\" id=\"files-44fcc194-d0e3-4606-a07b-fdb785f4802c\" name=\"files[]\" multiple disabled\n",
              "        style=\"border:none\" />\n",
              "     <output id=\"result-44fcc194-d0e3-4606-a07b-fdb785f4802c\">\n",
              "      Upload widget is only available when the cell has been executed in the\n",
              "      current browser session. Please rerun this cell to enable.\n",
              "      </output>\n",
              "      <script>// Copyright 2017 Google LLC\n",
              "//\n",
              "// Licensed under the Apache License, Version 2.0 (the \"License\");\n",
              "// you may not use this file except in compliance with the License.\n",
              "// You may obtain a copy of the License at\n",
              "//\n",
              "//      http://www.apache.org/licenses/LICENSE-2.0\n",
              "//\n",
              "// Unless required by applicable law or agreed to in writing, software\n",
              "// distributed under the License is distributed on an \"AS IS\" BASIS,\n",
              "// WITHOUT WARRANTIES OR CONDITIONS OF ANY KIND, either express or implied.\n",
              "// See the License for the specific language governing permissions and\n",
              "// limitations under the License.\n",
              "\n",
              "/**\n",
              " * @fileoverview Helpers for google.colab Python module.\n",
              " */\n",
              "(function(scope) {\n",
              "function span(text, styleAttributes = {}) {\n",
              "  const element = document.createElement('span');\n",
              "  element.textContent = text;\n",
              "  for (const key of Object.keys(styleAttributes)) {\n",
              "    element.style[key] = styleAttributes[key];\n",
              "  }\n",
              "  return element;\n",
              "}\n",
              "\n",
              "// Max number of bytes which will be uploaded at a time.\n",
              "const MAX_PAYLOAD_SIZE = 100 * 1024;\n",
              "\n",
              "function _uploadFiles(inputId, outputId) {\n",
              "  const steps = uploadFilesStep(inputId, outputId);\n",
              "  const outputElement = document.getElementById(outputId);\n",
              "  // Cache steps on the outputElement to make it available for the next call\n",
              "  // to uploadFilesContinue from Python.\n",
              "  outputElement.steps = steps;\n",
              "\n",
              "  return _uploadFilesContinue(outputId);\n",
              "}\n",
              "\n",
              "// This is roughly an async generator (not supported in the browser yet),\n",
              "// where there are multiple asynchronous steps and the Python side is going\n",
              "// to poll for completion of each step.\n",
              "// This uses a Promise to block the python side on completion of each step,\n",
              "// then passes the result of the previous step as the input to the next step.\n",
              "function _uploadFilesContinue(outputId) {\n",
              "  const outputElement = document.getElementById(outputId);\n",
              "  const steps = outputElement.steps;\n",
              "\n",
              "  const next = steps.next(outputElement.lastPromiseValue);\n",
              "  return Promise.resolve(next.value.promise).then((value) => {\n",
              "    // Cache the last promise value to make it available to the next\n",
              "    // step of the generator.\n",
              "    outputElement.lastPromiseValue = value;\n",
              "    return next.value.response;\n",
              "  });\n",
              "}\n",
              "\n",
              "/**\n",
              " * Generator function which is called between each async step of the upload\n",
              " * process.\n",
              " * @param {string} inputId Element ID of the input file picker element.\n",
              " * @param {string} outputId Element ID of the output display.\n",
              " * @return {!Iterable<!Object>} Iterable of next steps.\n",
              " */\n",
              "function* uploadFilesStep(inputId, outputId) {\n",
              "  const inputElement = document.getElementById(inputId);\n",
              "  inputElement.disabled = false;\n",
              "\n",
              "  const outputElement = document.getElementById(outputId);\n",
              "  outputElement.innerHTML = '';\n",
              "\n",
              "  const pickedPromise = new Promise((resolve) => {\n",
              "    inputElement.addEventListener('change', (e) => {\n",
              "      resolve(e.target.files);\n",
              "    });\n",
              "  });\n",
              "\n",
              "  const cancel = document.createElement('button');\n",
              "  inputElement.parentElement.appendChild(cancel);\n",
              "  cancel.textContent = 'Cancel upload';\n",
              "  const cancelPromise = new Promise((resolve) => {\n",
              "    cancel.onclick = () => {\n",
              "      resolve(null);\n",
              "    };\n",
              "  });\n",
              "\n",
              "  // Wait for the user to pick the files.\n",
              "  const files = yield {\n",
              "    promise: Promise.race([pickedPromise, cancelPromise]),\n",
              "    response: {\n",
              "      action: 'starting',\n",
              "    }\n",
              "  };\n",
              "\n",
              "  cancel.remove();\n",
              "\n",
              "  // Disable the input element since further picks are not allowed.\n",
              "  inputElement.disabled = true;\n",
              "\n",
              "  if (!files) {\n",
              "    return {\n",
              "      response: {\n",
              "        action: 'complete',\n",
              "      }\n",
              "    };\n",
              "  }\n",
              "\n",
              "  for (const file of files) {\n",
              "    const li = document.createElement('li');\n",
              "    li.append(span(file.name, {fontWeight: 'bold'}));\n",
              "    li.append(span(\n",
              "        `(${file.type || 'n/a'}) - ${file.size} bytes, ` +\n",
              "        `last modified: ${\n",
              "            file.lastModifiedDate ? file.lastModifiedDate.toLocaleDateString() :\n",
              "                                    'n/a'} - `));\n",
              "    const percent = span('0% done');\n",
              "    li.appendChild(percent);\n",
              "\n",
              "    outputElement.appendChild(li);\n",
              "\n",
              "    const fileDataPromise = new Promise((resolve) => {\n",
              "      const reader = new FileReader();\n",
              "      reader.onload = (e) => {\n",
              "        resolve(e.target.result);\n",
              "      };\n",
              "      reader.readAsArrayBuffer(file);\n",
              "    });\n",
              "    // Wait for the data to be ready.\n",
              "    let fileData = yield {\n",
              "      promise: fileDataPromise,\n",
              "      response: {\n",
              "        action: 'continue',\n",
              "      }\n",
              "    };\n",
              "\n",
              "    // Use a chunked sending to avoid message size limits. See b/62115660.\n",
              "    let position = 0;\n",
              "    do {\n",
              "      const length = Math.min(fileData.byteLength - position, MAX_PAYLOAD_SIZE);\n",
              "      const chunk = new Uint8Array(fileData, position, length);\n",
              "      position += length;\n",
              "\n",
              "      const base64 = btoa(String.fromCharCode.apply(null, chunk));\n",
              "      yield {\n",
              "        response: {\n",
              "          action: 'append',\n",
              "          file: file.name,\n",
              "          data: base64,\n",
              "        },\n",
              "      };\n",
              "\n",
              "      let percentDone = fileData.byteLength === 0 ?\n",
              "          100 :\n",
              "          Math.round((position / fileData.byteLength) * 100);\n",
              "      percent.textContent = `${percentDone}% done`;\n",
              "\n",
              "    } while (position < fileData.byteLength);\n",
              "  }\n",
              "\n",
              "  // All done.\n",
              "  yield {\n",
              "    response: {\n",
              "      action: 'complete',\n",
              "    }\n",
              "  };\n",
              "}\n",
              "\n",
              "scope.google = scope.google || {};\n",
              "scope.google.colab = scope.google.colab || {};\n",
              "scope.google.colab._files = {\n",
              "  _uploadFiles,\n",
              "  _uploadFilesContinue,\n",
              "};\n",
              "})(self);\n",
              "</script> "
            ]
          },
          "metadata": {}
        },
        {
          "output_type": "stream",
          "name": "stdout",
          "text": [
            "Saving Mall_Customers.csv to Mall_Customers.csv\n"
          ]
        }
      ]
    },
    {
      "cell_type": "code",
      "source": [
        "import numpy as np\n",
        "import pandas as pd\n",
        "import seaborn as sns\n",
        "import matplotlib.pyplot as plt\n",
        "import sklearn"
      ],
      "metadata": {
        "id": "tKshTAbfwyL6"
      },
      "execution_count": 8,
      "outputs": []
    },
    {
      "cell_type": "code",
      "source": [
        "data = pd.read_csv(r\"Mall_Customers.csv\")"
      ],
      "metadata": {
        "id": "nw49Ex1DxsM3"
      },
      "execution_count": 10,
      "outputs": []
    },
    {
      "cell_type": "markdown",
      "source": [
        "Data Visualisation"
      ],
      "metadata": {
        "id": "-iXLi-80x9kV"
      }
    },
    {
      "cell_type": "markdown",
      "source": [
        "1.Univariate Analysis"
      ],
      "metadata": {
        "id": "y8mW5fk7yAxQ"
      }
    },
    {
      "cell_type": "code",
      "source": [
        "sns.displot(data['Annual Income (k$)'])"
      ],
      "metadata": {
        "colab": {
          "base_uri": "https://localhost:8080/",
          "height": 386
        },
        "id": "mAlOJpJ7x5lz",
        "outputId": "21c82d13-43c2-4755-b9c5-b7f9dcebbe0b"
      },
      "execution_count": 11,
      "outputs": [
        {
          "output_type": "execute_result",
          "data": {
            "text/plain": [
              "<seaborn.axisgrid.FacetGrid at 0x7f64f4184a50>"
            ]
          },
          "metadata": {},
          "execution_count": 11
        },
        {
          "output_type": "display_data",
          "data": {
            "text/plain": [
              "<Figure size 360x360 with 1 Axes>"
            ],
            "image/png": "[encoded data removed]"
          },
          "metadata": {
            "needs_background": "light"
          }
        }
      ]
    },
    {
      "cell_type": "code",
      "source": [
        "sns.histplot(data['Annual Income (k$)'])"
      ],
      "metadata": {
        "colab": {
          "base_uri": "https://localhost:8080/",
          "height": 296
        },
        "id": "jjBwcwggyDRD",
        "outputId": "93b4e9e4-45d4-4d8c-ec7a-07e44c3ebe9e"
      },
      "execution_count": 12,
      "outputs": [
        {
          "output_type": "execute_result",
          "data": {
            "text/plain": [
              "<matplotlib.axes._subplots.AxesSubplot at 0x7f64ee8c72d0>"
            ]
          },
          "metadata": {},
          "execution_count": 12
        },
        {
          "output_type": "display_data",
          "data": {
            "text/plain": [
              "<Figure size 432x288 with 1 Axes>"
            ],
            "image/png": "[encoded data removed]"
          },
          "metadata": {
            "needs_background": "light"
          }
        }
      ]
    },
    {
      "cell_type": "code",
      "source": [
        "sns.boxplot(data['Annual Income (k$)'])"
      ],
      "metadata": {
        "colab": {
          "base_uri": "https://localhost:8080/",
          "height": 351
        },
        "id": "jkk-HjfKyHDT",
        "outputId": "82717ef9-0a19-47be-85aa-597a4f374b01"
      },
      "execution_count": 13,
      "outputs": [
        {
          "output_type": "stream",
          "name": "stderr",
          "text": [
            "/usr/local/lib/python3.7/dist-packages/seaborn/_decorators.py:43: FutureWarning: Pass the following variable as a keyword arg: x. From version 0.12, the only valid positional argument will be `data`, and passing other arguments without an explicit keyword will result in an error or misinterpretation.\n",
            "  FutureWarning\n"
          ]
        },
        {
          "output_type": "execute_result",
          "data": {
            "text/plain": [
              "<matplotlib.axes._subplots.AxesSubplot at 0x7f64ee39c310>"
            ]
          },
          "metadata": {},
          "execution_count": 13
        },
        {
          "output_type": "display_data",
          "data": {
            "text/plain": [
              "<Figure size 432x288 with 1 Axes>"
            ],
            "image/png": "[encoded data removed]"
          },
          "metadata": {
            "needs_background": "light"
          }
        }
      ]
    },
    {
      "cell_type": "markdown",
      "source": [
        "Bivariate Analaysis"
      ],
      "metadata": {
        "id": "QWm4P0FgyN7Q"
      }
    },
    {
      "cell_type": "code",
      "source": [
        "sns.lineplot(data['Age'], data['Annual Income (k$)'])"
      ],
      "metadata": {
        "colab": {
          "base_uri": "https://localhost:8080/",
          "height": 351
        },
        "id": "IxVRaEp4yK5f",
        "outputId": "a3d84c88-dff2-40a9-a37f-703df7ba489c"
      },
      "execution_count": 14,
      "outputs": [
        {
          "output_type": "stream",
          "name": "stderr",
          "text": [
            "/usr/local/lib/python3.7/dist-packages/seaborn/_decorators.py:43: FutureWarning: Pass the following variables as keyword args: x, y. From version 0.12, the only valid positional argument will be `data`, and passing other arguments without an explicit keyword will result in an error or misinterpretation.\n",
            "  FutureWarning\n"
          ]
        },
        {
          "output_type": "execute_result",
          "data": {
            "text/plain": [
              "<matplotlib.axes._subplots.AxesSubplot at 0x7f64ee311390>"
            ]
          },
          "metadata": {},
          "execution_count": 14
        },
        {
          "output_type": "display_data",
          "data": {
            "text/plain": [
              "<Figure size 432x288 with 1 Axes>"
            ],
            "image/png": "[encoded data removed]"
          },
          "metadata": {
            "needs_background": "light"
          }
        }
      ]
    },
    {
      "cell_type": "code",
      "source": [
        "sns.barplot(data['Spending Score (1-100)'], data['Annual Income (k$)'])"
      ],
      "metadata": {
        "colab": {
          "base_uri": "https://localhost:8080/",
          "height": 351
        },
        "id": "WjECuVYCyQtk",
        "outputId": "113beef8-14aa-4023-d1d3-3e483019f952"
      },
      "execution_count": 15,
      "outputs": [
        {
          "output_type": "stream",
          "name": "stderr",
          "text": [
            "/usr/local/lib/python3.7/dist-packages/seaborn/_decorators.py:43: FutureWarning: Pass the following variables as keyword args: x, y. From version 0.12, the only valid positional argument will be `data`, and passing other arguments without an explicit keyword will result in an error or misinterpretation.\n",
            "  FutureWarning\n"
          ]
        },
        {
          "output_type": "execute_result",
          "data": {
            "text/plain": [
              "<matplotlib.axes._subplots.AxesSubplot at 0x7f64ee304150>"
            ]
          },
          "metadata": {},
          "execution_count": 15
        },
        {
          "output_type": "display_data",
          "data": {
            "text/plain": [
              "<Figure size 432x288 with 1 Axes>"
            ],
            "image/png": "[encoded data removed]"
          },
          "metadata": {
            "needs_background": "light"
          }
        }
      ]
    },
    {
      "cell_type": "code",
      "source": [
        "plt.figure(figsize=(45,50))\n",
        "sns.barplot(data['Spending Score (1-100)'], data['Annual Income (k$)'])"
      ],
      "metadata": {
        "colab": {
          "base_uri": "https://localhost:8080/",
          "height": 1000
        },
        "id": "hKgSlGwtybAK",
        "outputId": "17d854b4-4566-4a2c-b2f1-481f23977b26"
      },
      "execution_count": 16,
      "outputs": [
        {
          "output_type": "stream",
          "name": "stderr",
          "text": [
            "/usr/local/lib/python3.7/dist-packages/seaborn/_decorators.py:43: FutureWarning: Pass the following variables as keyword args: x, y. From version 0.12, the only valid positional argument will be `data`, and passing other arguments without an explicit keyword will result in an error or misinterpretation.\n",
            "  FutureWarning\n"
          ]
        },
        {
          "output_type": "execute_result",
          "data": {
            "text/plain": [
              "<matplotlib.axes._subplots.AxesSubplot at 0x7f64ee10e2d0>"
            ]
          },
          "metadata": {},
          "execution_count": 16
        },
        {
          "output_type": "display_data",
          "data": {
            "text/plain": [
              "<Figure size 3240x3600 with 1 Axes>"
            ],
            "image/png": "[encoded data removed]"
          },
          "metadata": {
            "needs_background": "light"
          }
        }
      ]
    },
    {
      "cell_type": "markdown",
      "source": [
        "\n",
        "Multi variate analysis"
      ],
      "metadata": {
        "id": "vKJdLN7eykYQ"
      }
    },
    {
      "cell_type": "code",
      "source": [
        "sns.scatterplot(data['Annual Income (k$)'], data['Spending Score (1-100)'], hue = data['Age'])"
      ],
      "metadata": {
        "colab": {
          "base_uri": "https://localhost:8080/",
          "height": 351
        },
        "id": "dMugyPpZydi8",
        "outputId": "e63141d0-ac8a-4930-b85a-a984d8c08a70"
      },
      "execution_count": 17,
      "outputs": [
        {
          "output_type": "stream",
          "name": "stderr",
          "text": [
            "/usr/local/lib/python3.7/dist-packages/seaborn/_decorators.py:43: FutureWarning: Pass the following variables as keyword args: x, y. From version 0.12, the only valid positional argument will be `data`, and passing other arguments without an explicit keyword will result in an error or misinterpretation.\n",
            "  FutureWarning\n"
          ]
        },
        {
          "output_type": "execute_result",
          "data": {
            "text/plain": [
              "<matplotlib.axes._subplots.AxesSubplot at 0x7f64edb8db10>"
            ]
          },
          "metadata": {},
          "execution_count": 17
        },
        {
          "output_type": "display_data",
          "data": {
            "text/plain": [
              "<Figure size 432x288 with 1 Axes>"
            ],
            "image/png": "[encoded data removed]"
          },
          "metadata": {
            "needs_background": "light"
          }
        }
      ]
    },
    {
      "cell_type": "code",
      "source": [
        "sns.pairplot(data)"
      ],
      "metadata": {
        "colab": {
          "base_uri": "https://localhost:8080/",
          "height": 743
        },
        "id": "VgI8dk3nyoky",
        "outputId": "f368c45f-a5a8-4f12-d035-da3bfb5aa944"
      },
      "execution_count": 18,
      "outputs": [
        {
          "output_type": "execute_result",
          "data": {
            "text/plain": [
              "<seaborn.axisgrid.PairGrid at 0x7f64ec33ab10>"
            ]
          },
          "metadata": {},
          "execution_count": 18
        },
        {
          "output_type": "display_data",
          "data": {
            "text/plain": [
              "<Figure size 720x720 with 20 Axes>"
            ],
            "image/png": "[encoded data removed]"
          },
          "metadata": {
            "needs_background": "light"
          }
        }
      ]
    },
    {
      "cell_type": "markdown",
      "source": [
        "descriptive Statistics"
      ],
      "metadata": {
        "id": "G8EW2zudyueC"
      }
    },
    {
      "cell_type": "code",
      "source": [
        "data.mean(numeric_only = True)"
      ],
      "metadata": {
        "colab": {
          "base_uri": "https://localhost:8080/"
        },
        "id": "Ul0tfok90PIo",
        "outputId": "5b5ca113-6ea2-4dae-8488-fb53996ed7ea"
      },
      "execution_count": 32,
      "outputs": [
        {
          "output_type": "execute_result",
          "data": {
            "text/plain": [
              "CustomerID                100.50\n",
              "Age                        38.85\n",
              "Annual Income (k$)         60.56\n",
              "Spending Score (1-100)     50.20\n",
              "dtype: float64"
            ]
          },
          "metadata": {},
          "execution_count": 32
        }
      ]
    },
    {
      "cell_type": "code",
      "source": [
        "data.median(numeric_only = True)"
      ],
      "metadata": {
        "colab": {
          "base_uri": "https://localhost:8080/"
        },
        "id": "YFJCXQkI0PoY",
        "outputId": "54e49ca7-d86a-40e0-e1d8-2a4abd8585b3"
      },
      "execution_count": 33,
      "outputs": [
        {
          "output_type": "execute_result",
          "data": {
            "text/plain": [
              "CustomerID                100.5\n",
              "Age                        36.0\n",
              "Annual Income (k$)         61.5\n",
              "Spending Score (1-100)     50.0\n",
              "dtype: float64"
            ]
          },
          "metadata": {},
          "execution_count": 33
        }
      ]
    },
    {
      "cell_type": "code",
      "source": [
        "data['Age'].mode()"
      ],
      "metadata": {
        "colab": {
          "base_uri": "https://localhost:8080/"
        },
        "id": "SYb2m-0H0RnQ",
        "outputId": "2f7545a6-bd6b-4df2-f3d6-5a0fc55566ae"
      },
      "execution_count": 34,
      "outputs": [
        {
          "output_type": "execute_result",
          "data": {
            "text/plain": [
              "0    32\n",
              "dtype: int64"
            ]
          },
          "metadata": {},
          "execution_count": 34
        }
      ]
    },
    {
      "cell_type": "code",
      "source": [
        "data['Annual Income (k$)'].unique()"
      ],
      "metadata": {
        "colab": {
          "base_uri": "https://localhost:8080/"
        },
        "id": "fHcM1Oxj0UKb",
        "outputId": "9041d20d-4ac4-4386-bf5d-af3cd6314345"
      },
      "execution_count": 35,
      "outputs": [
        {
          "output_type": "execute_result",
          "data": {
            "text/plain": [
              "array([ 15,  16,  17,  18,  19,  20,  21,  23,  24,  25,  28,  29,  30,\n",
              "        33,  34,  37,  38,  39,  40,  42,  43,  44,  46,  47,  48,  49,\n",
              "        50,  54,  57,  58,  59,  60,  61,  62,  63,  64,  65,  67,  69,\n",
              "        70,  71,  72,  73,  74,  75,  76,  77,  78,  79,  81,  85,  86,\n",
              "        87,  88,  93,  97,  98,  99, 101, 103, 113, 120, 126, 137])"
            ]
          },
          "metadata": {},
          "execution_count": 35
        }
      ]
    },
    {
      "cell_type": "code",
      "source": [
        "data.std(numeric_only=True)"
      ],
      "metadata": {
        "colab": {
          "base_uri": "https://localhost:8080/"
        },
        "id": "Xati7CtK0Wlb",
        "outputId": "8f5a7060-873d-4fb6-be5a-2e9851d4ec85"
      },
      "execution_count": 36,
      "outputs": [
        {
          "output_type": "execute_result",
          "data": {
            "text/plain": [
              "CustomerID                57.879185\n",
              "Age                       13.969007\n",
              "Annual Income (k$)        26.264721\n",
              "Spending Score (1-100)    25.823522\n",
              "dtype: float64"
            ]
          },
          "metadata": {},
          "execution_count": 36
        }
      ]
    },
    {
      "cell_type": "code",
      "source": [
        "data.describe()"
      ],
      "metadata": {
        "colab": {
          "base_uri": "https://localhost:8080/",
          "height": 300
        },
        "id": "MnKrV9JA0YjB",
        "outputId": "7c95ea05-a0d6-4a6b-bf53-3b1eecccfe8a"
      },
      "execution_count": 37,
      "outputs": [
        {
          "output_type": "execute_result",
          "data": {
            "text/plain": [
              "       CustomerID         Age  Annual Income (k$)  Spending Score (1-100)\n",
              "count  200.000000  200.000000          200.000000              200.000000\n",
              "mean   100.500000   38.850000           60.560000               50.200000\n",
              "std     57.879185   13.969007           26.264721               25.823522\n",
              "min      1.000000   18.000000           15.000000                1.000000\n",
              "25%     50.750000   28.750000           41.500000               34.750000\n",
              "50%    100.500000   36.000000           61.500000               50.000000\n",
              "75%    150.250000   49.000000           78.000000               73.000000\n",
              "max    200.000000   70.000000          137.000000               99.000000"
            ],
            "text/html": [
              "\n",
              "  <div id=\"df-fc0a7933-cc09-442f-aadd-35dc10435751\">\n",
              "    <div class=\"colab-df-container\">\n",
              "      <div>\n",
              "<style scoped>\n",
              "    .dataframe tbody tr th:only-of-type {\n",
              "        vertical-align: middle;\n",
              "    }\n",
              "\n",
              "    .dataframe tbody tr th {\n",
              "        vertical-align: top;\n",
              "    }\n",
              "\n",
              "    .dataframe thead th {\n",
              "        text-align: right;\n",
              "    }\n",
              "</style>\n",
              "<table border=\"1\" class=\"dataframe\">\n",
              "  <thead>\n",
              "    <tr style=\"text-align: right;\">\n",
              "      <th></th>\n",
              "      <th>CustomerID</th>\n",
              "      <th>Age</th>\n",
              "      <th>Annual Income (k$)</th>\n",
              "      <th>Spending Score (1-100)</th>\n",
              "    </tr>\n",
              "  </thead>\n",
              "  <tbody>\n",
              "    <tr>\n",
              "      <th>count</th>\n",
              "      <td>200.000000</td>\n",
              "      <td>200.000000</td>\n",
              "      <td>200.000000</td>\n",
              "      <td>200.000000</td>\n",
              "    </tr>\n",
              "    <tr>\n",
              "      <th>mean</th>\n",
              "      <td>100.500000</td>\n",
              "      <td>38.850000</td>\n",
              "      <td>60.560000</td>\n",
              "      <td>50.200000</td>\n",
              "    </tr>\n",
              "    <tr>\n",
              "      <th>std</th>\n",
              "      <td>57.879185</td>\n",
              "      <td>13.969007</td>\n",
              "      <td>26.264721</td>\n",
              "      <td>25.823522</td>\n",
              "    </tr>\n",
              "    <tr>\n",
              "      <th>min</th>\n",
              "      <td>1.000000</td>\n",
              "      <td>18.000000</td>\n",
              "      <td>15.000000</td>\n",
              "      <td>1.000000</td>\n",
              "    </tr>\n",
              "    <tr>\n",
              "      <th>25%</th>\n",
              "      <td>50.750000</td>\n",
              "      <td>28.750000</td>\n",
              "      <td>41.500000</td>\n",
              "      <td>34.750000</td>\n",
              "    </tr>\n",
              "    <tr>\n",
              "      <th>50%</th>\n",
              "      <td>100.500000</td>\n",
              "      <td>36.000000</td>\n",
              "      <td>61.500000</td>\n",
              "      <td>50.000000</td>\n",
              "    </tr>\n",
              "    <tr>\n",
              "      <th>75%</th>\n",
              "      <td>150.250000</td>\n",
              "      <td>49.000000</td>\n",
              "      <td>78.000000</td>\n",
              "      <td>73.000000</td>\n",
              "    </tr>\n",
              "    <tr>\n",
              "      <th>max</th>\n",
              "      <td>200.000000</td>\n",
              "      <td>70.000000</td>\n",
              "      <td>137.000000</td>\n",
              "      <td>99.000000</td>\n",
              "    </tr>\n",
              "  </tbody>\n",
              "</table>\n",
              "</div>\n",
              "      <button class=\"colab-df-convert\" onclick=\"convertToInteractive('df-fc0a7933-cc09-442f-aadd-35dc10435751')\"\n",
              "              title=\"Convert this dataframe to an interactive table.\"\n",
              "              style=\"display:none;\">\n",
              "        \n",
              "  <svg xmlns=\"http://www.w3.org/2000/svg\" height=\"24px\"viewBox=\"0 0 24 24\"\n",
              "       width=\"24px\">\n",
              "    <path d=\"M0 0h24v24H0V0z\" fill=\"none\"/>\n",
              "    <path d=\"M18.56 5.44l.94 2.06.94-2.06 2.06-.94-2.06-.94-.94-2.06-.94 2.06-2.06.94zm-11 1L8.5 8.5l.94-2.06 2.06-.94-2.06-.94L8.5 2.5l-.94 2.06-2.06.94zm10 10l.94 2.06.94-2.06 2.06-.94-2.06-.94-.94-2.06-.94 2.06-2.06.94z\"/><path d=\"M17.41 7.96l-1.37-1.37c-.4-.4-.92-.59-1.43-.59-.52 0-1.04.2-1.43.59L10.3 9.45l-7.72 7.72c-.78.78-.78 2.05 0 2.83L4 21.41c.39.39.9.59 1.41.59.51 0 1.02-.2 1.41-.59l7.78-7.78 2.81-2.81c.8-.78.8-2.07 0-2.86zM5.41 20L4 18.59l7.72-7.72 1.47 1.35L5.41 20z\"/>\n",
              "  </svg>\n",
              "      </button>\n",
              "      \n",
              "  <style>\n",
              "    .colab-df-container {\n",
              "      display:flex;\n",
              "      flex-wrap:wrap;\n",
              "      gap: 12px;\n",
              "    }\n",
              "\n",
              "    .colab-df-convert {\n",
              "      background-color: #E8F0FE;\n",
              "      border: none;\n",
              "      border-radius: 50%;\n",
              "      cursor: pointer;\n",
              "      display: none;\n",
              "      fill: #1967D2;\n",
              "      height: 32px;\n",
              "      padding: 0 0 0 0;\n",
              "      width: 32px;\n",
              "    }\n",
              "\n",
              "    .colab-df-convert:hover {\n",
              "      background-color: #E2EBFA;\n",
              "      box-shadow: 0px 1px 2px rgba(60, 64, 67, 0.3), 0px 1px 3px 1px rgba(60, 64, 67, 0.15);\n",
              "      fill: #174EA6;\n",
              "    }\n",
              "\n",
              "    [theme=dark] .colab-df-convert {\n",
              "      background-color: #3B4455;\n",
              "      fill: #D2E3FC;\n",
              "    }\n",
              "\n",
              "    [theme=dark] .colab-df-convert:hover {\n",
              "      background-color: #434B5C;\n",
              "      box-shadow: 0px 1px 3px 1px rgba(0, 0, 0, 0.15);\n",
              "      filter: drop-shadow(0px 1px 2px rgba(0, 0, 0, 0.3));\n",
              "      fill: #FFFFFF;\n",
              "    }\n",
              "  </style>\n",
              "\n",
              "      <script>\n",
              "        const buttonEl =\n",
              "          document.querySelector('#df-fc0a7933-cc09-442f-aadd-35dc10435751 button.colab-df-convert');\n",
              "        buttonEl.style.display =\n",
              "          google.colab.kernel.accessAllowed ? 'block' : 'none';\n",
              "\n",
              "        async function convertToInteractive(key) {\n",
              "          const element = document.querySelector('#df-fc0a7933-cc09-442f-aadd-35dc10435751');\n",
              "          const dataTable =\n",
              "            await google.colab.kernel.invokeFunction('convertToInteractive',\n",
              "                                                     [key], {});\n",
              "          if (!dataTable) return;\n",
              "\n",
              "          const docLinkHtml = 'Like what you see? Visit the ' +\n",
              "            '<a target=\"_blank\" href=https://colab.research.google.com/notebooks/data_table.ipynb>data table notebook</a>'\n",
              "            + ' to learn more about interactive tables.';\n",
              "          element.innerHTML = '';\n",
              "          dataTable['output_type'] = 'display_data';\n",
              "          await google.colab.output.renderOutput(dataTable, element);\n",
              "          const docLink = document.createElement('div');\n",
              "          docLink.innerHTML = docLinkHtml;\n",
              "          element.appendChild(docLink);\n",
              "        }\n",
              "      </script>\n",
              "    </div>\n",
              "  </div>\n",
              "  "
            ]
          },
          "metadata": {},
          "execution_count": 37
        }
      ]
    },
    {
      "cell_type": "code",
      "source": [
        "data.isnull().any()"
      ],
      "metadata": {
        "colab": {
          "base_uri": "https://localhost:8080/"
        },
        "id": "YfA4ohiJ0avp",
        "outputId": "821e7fc6-ec33-48b0-bd8e-c052e8d5c9df"
      },
      "execution_count": 38,
      "outputs": [
        {
          "output_type": "execute_result",
          "data": {
            "text/plain": [
              "CustomerID                False\n",
              "Gender                    False\n",
              "Age                       False\n",
              "Annual Income (k$)        False\n",
              "Spending Score (1-100)    False\n",
              "dtype: bool"
            ]
          },
          "metadata": {},
          "execution_count": 38
        }
      ]
    },
    {
      "cell_type": "code",
      "source": [
        "data.isnull().sum()"
      ],
      "metadata": {
        "colab": {
          "base_uri": "https://localhost:8080/"
        },
        "id": "-WuV7I_D0eH3",
        "outputId": "3f0c6618-1951-4855-be78-ecd550f84057"
      },
      "execution_count": 39,
      "outputs": [
        {
          "output_type": "execute_result",
          "data": {
            "text/plain": [
              "CustomerID                0\n",
              "Gender                    0\n",
              "Age                       0\n",
              "Annual Income (k$)        0\n",
              "Spending Score (1-100)    0\n",
              "dtype: int64"
            ]
          },
          "metadata": {},
          "execution_count": 39
        }
      ]
    },
    {
      "cell_type": "markdown",
      "source": [
        "Outliers"
      ],
      "metadata": {
        "id": "K7iXs8pG0iSV"
      }
    },
    {
      "cell_type": "code",
      "source": [
        "sns.boxplot(data['Annual Income (k$)'])"
      ],
      "metadata": {
        "colab": {
          "base_uri": "https://localhost:8080/",
          "height": 351
        },
        "id": "p2NAMtUY0gB2",
        "outputId": "0eb582c8-651a-47ba-ac05-79a215fff288"
      },
      "execution_count": 40,
      "outputs": [
        {
          "output_type": "stream",
          "name": "stderr",
          "text": [
            "/usr/local/lib/python3.7/dist-packages/seaborn/_decorators.py:43: FutureWarning: Pass the following variable as a keyword arg: x. From version 0.12, the only valid positional argument will be `data`, and passing other arguments without an explicit keyword will result in an error or misinterpretation.\n",
            "  FutureWarning\n"
          ]
        },
        {
          "output_type": "execute_result",
          "data": {
            "text/plain": [
              "<matplotlib.axes._subplots.AxesSubplot at 0x7f64ebb6a210>"
            ]
          },
          "metadata": {},
          "execution_count": 40
        },
        {
          "output_type": "display_data",
          "data": {
            "text/plain": [
              "<Figure size 432x288 with 1 Axes>"
            ],
            "image/png": "[encoded data removed]"
          },
          "metadata": {
            "needs_background": "light"
          }
        }
      ]
    },
    {
      "cell_type": "code",
      "source": [
        "q = data.quantile([0.75,0.25])"
      ],
      "metadata": {
        "id": "2QP6k7Hs0ko_"
      },
      "execution_count": 41,
      "outputs": []
    },
    {
      "cell_type": "code",
      "source": [
        "q"
      ],
      "metadata": {
        "colab": {
          "base_uri": "https://localhost:8080/",
          "height": 112
        },
        "id": "P0Yg0Oan0oMX",
        "outputId": "c3913ce2-19dd-4094-8d7d-40a0ba96bda4"
      },
      "execution_count": 42,
      "outputs": [
        {
          "output_type": "execute_result",
          "data": {
            "text/plain": [
              "      CustomerID    Age  Annual Income (k$)  Spending Score (1-100)\n",
              "0.75      150.25  49.00                78.0                   73.00\n",
              "0.25       50.75  28.75                41.5                   34.75"
            ],
            "text/html": [
              "\n",
              "  <div id=\"df-ab78f2d8-23d8-41d2-9f55-5743f20c1935\">\n",
              "    <div class=\"colab-df-container\">\n",
              "      <div>\n",
              "<style scoped>\n",
              "    .dataframe tbody tr th:only-of-type {\n",
              "        vertical-align: middle;\n",
              "    }\n",
              "\n",
              "    .dataframe tbody tr th {\n",
              "        vertical-align: top;\n",
              "    }\n",
              "\n",
              "    .dataframe thead th {\n",
              "        text-align: right;\n",
              "    }\n",
              "</style>\n",
              "<table border=\"1\" class=\"dataframe\">\n",
              "  <thead>\n",
              "    <tr style=\"text-align: right;\">\n",
              "      <th></th>\n",
              "      <th>CustomerID</th>\n",
              "      <th>Age</th>\n",
              "      <th>Annual Income (k$)</th>\n",
              "      <th>Spending Score (1-100)</th>\n",
              "    </tr>\n",
              "  </thead>\n",
              "  <tbody>\n",
              "    <tr>\n",
              "      <th>0.75</th>\n",
              "      <td>150.25</td>\n",
              "      <td>49.00</td>\n",
              "      <td>78.0</td>\n",
              "      <td>73.00</td>\n",
              "    </tr>\n",
              "    <tr>\n",
              "      <th>0.25</th>\n",
              "      <td>50.75</td>\n",
              "      <td>28.75</td>\n",
              "      <td>41.5</td>\n",
              "      <td>34.75</td>\n",
              "    </tr>\n",
              "  </tbody>\n",
              "</table>\n",
              "</div>\n",
              "      <button class=\"colab-df-convert\" onclick=\"convertToInteractive('df-ab78f2d8-23d8-41d2-9f55-5743f20c1935')\"\n",
              "              title=\"Convert this dataframe to an interactive table.\"\n",
              "              style=\"display:none;\">\n",
              "        \n",
              "  <svg xmlns=\"http://www.w3.org/2000/svg\" height=\"24px\"viewBox=\"0 0 24 24\"\n",
              "       width=\"24px\">\n",
              "    <path d=\"M0 0h24v24H0V0z\" fill=\"none\"/>\n",
              "    <path d=\"M18.56 5.44l.94 2.06.94-2.06 2.06-.94-2.06-.94-.94-2.06-.94 2.06-2.06.94zm-11 1L8.5 8.5l.94-2.06 2.06-.94-2.06-.94L8.5 2.5l-.94 2.06-2.06.94zm10 10l.94 2.06.94-2.06 2.06-.94-2.06-.94-.94-2.06-.94 2.06-2.06.94z\"/><path d=\"M17.41 7.96l-1.37-1.37c-.4-.4-.92-.59-1.43-.59-.52 0-1.04.2-1.43.59L10.3 9.45l-7.72 7.72c-.78.78-.78 2.05 0 2.83L4 21.41c.39.39.9.59 1.41.59.51 0 1.02-.2 1.41-.59l7.78-7.78 2.81-2.81c.8-.78.8-2.07 0-2.86zM5.41 20L4 18.59l7.72-7.72 1.47 1.35L5.41 20z\"/>\n",
              "  </svg>\n",
              "      </button>\n",
              "      \n",
              "  <style>\n",
              "    .colab-df-container {\n",
              "      display:flex;\n",
              "      flex-wrap:wrap;\n",
              "      gap: 12px;\n",
              "    }\n",
              "\n",
              "    .colab-df-convert {\n",
              "      background-color: #E8F0FE;\n",
              "      border: none;\n",
              "      border-radius: 50%;\n",
              "      cursor: pointer;\n",
              "      display: none;\n",
              "      fill: #1967D2;\n",
              "      height: 32px;\n",
              "      padding: 0 0 0 0;\n",
              "      width: 32px;\n",
              "    }\n",
              "\n",
              "    .colab-df-convert:hover {\n",
              "      background-color: #E2EBFA;\n",
              "      box-shadow: 0px 1px 2px rgba(60, 64, 67, 0.3), 0px 1px 3px 1px rgba(60, 64, 67, 0.15);\n",
              "      fill: #174EA6;\n",
              "    }\n",
              "\n",
              "    [theme=dark] .colab-df-convert {\n",
              "      background-color: #3B4455;\n",
              "      fill: #D2E3FC;\n",
              "    }\n",
              "\n",
              "    [theme=dark] .colab-df-convert:hover {\n",
              "      background-color: #434B5C;\n",
              "      box-shadow: 0px 1px 3px 1px rgba(0, 0, 0, 0.15);\n",
              "      filter: drop-shadow(0px 1px 2px rgba(0, 0, 0, 0.3));\n",
              "      fill: #FFFFFF;\n",
              "    }\n",
              "  </style>\n",
              "\n",
              "      <script>\n",
              "        const buttonEl =\n",
              "          document.querySelector('#df-ab78f2d8-23d8-41d2-9f55-5743f20c1935 button.colab-df-convert');\n",
              "        buttonEl.style.display =\n",
              "          google.colab.kernel.accessAllowed ? 'block' : 'none';\n",
              "\n",
              "        async function convertToInteractive(key) {\n",
              "          const element = document.querySelector('#df-ab78f2d8-23d8-41d2-9f55-5743f20c1935');\n",
              "          const dataTable =\n",
              "            await google.colab.kernel.invokeFunction('convertToInteractive',\n",
              "                                                     [key], {});\n",
              "          if (!dataTable) return;\n",
              "\n",
              "          const docLinkHtml = 'Like what you see? Visit the ' +\n",
              "            '<a target=\"_blank\" href=https://colab.research.google.com/notebooks/data_table.ipynb>data table notebook</a>'\n",
              "            + ' to learn more about interactive tables.';\n",
              "          element.innerHTML = '';\n",
              "          dataTable['output_type'] = 'display_data';\n",
              "          await google.colab.output.renderOutput(dataTable, element);\n",
              "          const docLink = document.createElement('div');\n",
              "          docLink.innerHTML = docLinkHtml;\n",
              "          element.appendChild(docLink);\n",
              "        }\n",
              "      </script>\n",
              "    </div>\n",
              "  </div>\n",
              "  "
            ]
          },
          "metadata": {},
          "execution_count": 42
        }
      ]
    },
    {
      "cell_type": "code",
      "source": [
        "iqr =  q.iloc[0] - q.iloc[1] "
      ],
      "metadata": {
        "id": "ynj-2JA40pK_"
      },
      "execution_count": 43,
      "outputs": []
    },
    {
      "cell_type": "code",
      "source": [
        "iqr"
      ],
      "metadata": {
        "colab": {
          "base_uri": "https://localhost:8080/"
        },
        "id": "3n7sPY1l0r4B",
        "outputId": "7a82ca78-8b59-47bf-d137-e5d9d51e07c3"
      },
      "execution_count": 44,
      "outputs": [
        {
          "output_type": "execute_result",
          "data": {
            "text/plain": [
              "CustomerID                99.50\n",
              "Age                       20.25\n",
              "Annual Income (k$)        36.50\n",
              "Spending Score (1-100)    38.25\n",
              "dtype: float64"
            ]
          },
          "metadata": {},
          "execution_count": 44
        }
      ]
    },
    {
      "cell_type": "code",
      "source": [
        "u = q.iloc[0] + (1.5*iqr) "
      ],
      "metadata": {
        "id": "IgY2p0rK0ujV"
      },
      "execution_count": 45,
      "outputs": []
    },
    {
      "cell_type": "code",
      "source": [
        "u"
      ],
      "metadata": {
        "colab": {
          "base_uri": "https://localhost:8080/"
        },
        "id": "rZvmr_240vu_",
        "outputId": "9b1af47b-7221-4a46-cfe3-9ef80d5b0d59"
      },
      "execution_count": 46,
      "outputs": [
        {
          "output_type": "execute_result",
          "data": {
            "text/plain": [
              "CustomerID                299.500\n",
              "Age                        79.375\n",
              "Annual Income (k$)        132.750\n",
              "Spending Score (1-100)    130.375\n",
              "dtype: float64"
            ]
          },
          "metadata": {},
          "execution_count": 46
        }
      ]
    },
    {
      "cell_type": "code",
      "source": [
        "l = q.iloc[1] - (1.5*iqr) "
      ],
      "metadata": {
        "id": "6Wqr0A970wos"
      },
      "execution_count": 47,
      "outputs": []
    },
    {
      "cell_type": "code",
      "source": [
        "l"
      ],
      "metadata": {
        "colab": {
          "base_uri": "https://localhost:8080/"
        },
        "id": "qd72x9vt0zO8",
        "outputId": "068b30f2-cb64-4ff0-bfad-01ace74a70e5"
      },
      "execution_count": 48,
      "outputs": [
        {
          "output_type": "execute_result",
          "data": {
            "text/plain": [
              "CustomerID               -98.500\n",
              "Age                       -1.625\n",
              "Annual Income (k$)       -13.250\n",
              "Spending Score (1-100)   -22.625\n",
              "dtype: float64"
            ]
          },
          "metadata": {},
          "execution_count": 48
        }
      ]
    },
    {
      "cell_type": "code",
      "source": [
        "data['Annual Income (k$)'] = np.where(np.logical_or(data['Annual Income (k$)']>132.75,data['Annual Income (k$)']<-13.250), 61.5,data['Annual Income (k$)'])\n"
      ],
      "metadata": {
        "id": "P6FSx20r00Q3"
      },
      "execution_count": 49,
      "outputs": []
    },
    {
      "cell_type": "code",
      "source": [
        "sns.boxplot(data['Annual Income (k$)'])"
      ],
      "metadata": {
        "colab": {
          "base_uri": "https://localhost:8080/",
          "height": 351
        },
        "id": "dK8dfRAx05Q5",
        "outputId": "91f4d514-703f-47a5-f210-8a3a05e4f5b0"
      },
      "execution_count": 50,
      "outputs": [
        {
          "output_type": "stream",
          "name": "stderr",
          "text": [
            "/usr/local/lib/python3.7/dist-packages/seaborn/_decorators.py:43: FutureWarning: Pass the following variable as a keyword arg: x. From version 0.12, the only valid positional argument will be `data`, and passing other arguments without an explicit keyword will result in an error or misinterpretation.\n",
            "  FutureWarning\n"
          ]
        },
        {
          "output_type": "execute_result",
          "data": {
            "text/plain": [
              "<matplotlib.axes._subplots.AxesSubplot at 0x7f64eb043390>"
            ]
          },
          "metadata": {},
          "execution_count": 50
        },
        {
          "output_type": "display_data",
          "data": {
            "text/plain": [
              "<Figure size 432x288 with 1 Axes>"
            ],
            "image/png": "[encoded data removed]"
          },
          "metadata": {
            "needs_background": "light"
          }
        }
      ]
    },
    {
      "cell_type": "code",
      "source": [
        "from sklearn.preprocessing import LabelEncoder\n",
        "\n",
        "le = LabelEncoder()\n",
        "data['Gender'] = le.fit_transform(data['Gender']) "
      ],
      "metadata": {
        "id": "v_ZDbC0h08Hx"
      },
      "execution_count": 51,
      "outputs": []
    },
    {
      "cell_type": "code",
      "source": [
        "data.head()"
      ],
      "metadata": {
        "id": "6mv98Iin1BYt"
      },
      "execution_count": 51,
      "outputs": []
    },
    {
      "cell_type": "markdown",
      "source": [
        "scaling"
      ],
      "metadata": {
        "id": "Ns93BYNX1Fv0"
      }
    },
    {
      "cell_type": "code",
      "source": [
        "from sklearn.preprocessing import MinMaxScaler\n",
        "min_max = MinMaxScaler()\n",
        "x_scaled = min_max.fit_transform(data)"
      ],
      "metadata": {
        "id": "zyZmdISE1Db5"
      },
      "execution_count": 52,
      "outputs": []
    },
    {
      "cell_type": "code",
      "source": [
        "x_scaled"
      ],
      "metadata": {
        "colab": {
          "base_uri": "https://localhost:8080/"
        },
        "id": "OC-e1RIQ1IkH",
        "outputId": "60918f96-dbf4-4f5e-f42d-5225f08f3273"
      },
      "execution_count": 53,
      "outputs": [
        {
          "output_type": "execute_result",
          "data": {
            "text/plain": [
              "array([[0.        , 1.        , 0.01923077, 0.        , 0.3877551 ],\n",
              "       [0.00502513, 1.        , 0.05769231, 0.        , 0.81632653],\n",
              "       [0.01005025, 0.        , 0.03846154, 0.00900901, 0.05102041],\n",
              "       [0.01507538, 0.        , 0.09615385, 0.00900901, 0.7755102 ],\n",
              "       [0.0201005 , 0.        , 0.25      , 0.01801802, 0.39795918],\n",
              "       [0.02512563, 0.        , 0.07692308, 0.01801802, 0.76530612],\n",
              "       [0.03015075, 0.        , 0.32692308, 0.02702703, 0.05102041],\n",
              "       [0.03517588, 0.        , 0.09615385, 0.02702703, 0.94897959],\n",
              "       [0.04020101, 1.        , 0.88461538, 0.03603604, 0.02040816],\n",
              "       [0.04522613, 0.        , 0.23076923, 0.03603604, 0.7244898 ],\n",
              "       [0.05025126, 1.        , 0.94230769, 0.03603604, 0.13265306],\n",
              "       [0.05527638, 0.        , 0.32692308, 0.03603604, 1.        ],\n",
              "       [0.06030151, 0.        , 0.76923077, 0.04504505, 0.14285714],\n",
              "       [0.06532663, 0.        , 0.11538462, 0.04504505, 0.7755102 ],\n",
              "       [0.07035176, 1.        , 0.36538462, 0.04504505, 0.12244898],\n",
              "       [0.07537688, 1.        , 0.07692308, 0.04504505, 0.79591837],\n",
              "       [0.08040201, 0.        , 0.32692308, 0.05405405, 0.34693878],\n",
              "       [0.08542714, 1.        , 0.03846154, 0.05405405, 0.66326531],\n",
              "       [0.09045226, 1.        , 0.65384615, 0.07207207, 0.28571429],\n",
              "       [0.09547739, 0.        , 0.32692308, 0.07207207, 0.98979592],\n",
              "       [0.10050251, 1.        , 0.32692308, 0.08108108, 0.34693878],\n",
              "       [0.10552764, 1.        , 0.13461538, 0.08108108, 0.73469388],\n",
              "       [0.11055276, 0.        , 0.53846154, 0.09009009, 0.04081633],\n",
              "       [0.11557789, 1.        , 0.25      , 0.09009009, 0.73469388],\n",
              "       [0.12060302, 0.        , 0.69230769, 0.11711712, 0.13265306],\n",
              "       [0.12562814, 1.        , 0.21153846, 0.11711712, 0.82653061],\n",
              "       [0.13065327, 0.        , 0.51923077, 0.11711712, 0.31632653],\n",
              "       [0.13567839, 1.        , 0.32692308, 0.11711712, 0.6122449 ],\n",
              "       [0.14070352, 0.        , 0.42307692, 0.12612613, 0.30612245],\n",
              "       [0.14572864, 0.        , 0.09615385, 0.12612613, 0.87755102],\n",
              "       [0.15075377, 1.        , 0.80769231, 0.13513514, 0.03061224],\n",
              "       [0.15577889, 0.        , 0.05769231, 0.13513514, 0.73469388],\n",
              "       [0.16080402, 1.        , 0.67307692, 0.16216216, 0.03061224],\n",
              "       [0.16582915, 1.        , 0.        , 0.16216216, 0.92857143],\n",
              "       [0.17085427, 0.        , 0.59615385, 0.16216216, 0.13265306],\n",
              "       [0.1758794 , 0.        , 0.05769231, 0.16216216, 0.81632653],\n",
              "       [0.18090452, 0.        , 0.46153846, 0.17117117, 0.16326531],\n",
              "       [0.18592965, 0.        , 0.23076923, 0.17117117, 0.73469388],\n",
              "       [0.19095477, 0.        , 0.34615385, 0.1981982 , 0.25510204],\n",
              "       [0.1959799 , 0.        , 0.03846154, 0.1981982 , 0.75510204],\n",
              "       [0.20100503, 0.        , 0.90384615, 0.20720721, 0.34693878],\n",
              "       [0.20603015, 1.        , 0.11538462, 0.20720721, 0.92857143],\n",
              "       [0.21105528, 1.        , 0.57692308, 0.21621622, 0.35714286],\n",
              "       [0.2160804 , 0.        , 0.25      , 0.21621622, 0.6122449 ],\n",
              "       [0.22110553, 0.        , 0.59615385, 0.21621622, 0.2755102 ],\n",
              "       [0.22613065, 0.        , 0.11538462, 0.21621622, 0.65306122],\n",
              "       [0.23115578, 0.        , 0.61538462, 0.22522523, 0.55102041],\n",
              "       [0.2361809 , 0.        , 0.17307692, 0.22522523, 0.46938776],\n",
              "       [0.24120603, 0.        , 0.21153846, 0.22522523, 0.41836735],\n",
              "       [0.24623116, 0.        , 0.25      , 0.22522523, 0.41836735],\n",
              "       [0.25125628, 0.        , 0.59615385, 0.24324324, 0.52040816],\n",
              "       [0.25628141, 1.        , 0.28846154, 0.24324324, 0.60204082],\n",
              "       [0.26130653, 0.        , 0.25      , 0.25225225, 0.54081633],\n",
              "       [0.26633166, 1.        , 0.78846154, 0.25225225, 0.60204082],\n",
              "       [0.27135678, 0.        , 0.61538462, 0.25225225, 0.44897959],\n",
              "       [0.27638191, 1.        , 0.55769231, 0.25225225, 0.40816327],\n",
              "       [0.28140704, 0.        , 0.63461538, 0.26126126, 0.5       ],\n",
              "       [0.28643216, 1.        , 0.98076923, 0.26126126, 0.45918367],\n",
              "       [0.29145729, 0.        , 0.17307692, 0.27927928, 0.51020408],\n",
              "       [0.29648241, 1.        , 0.67307692, 0.27927928, 0.45918367],\n",
              "       [0.30150754, 1.        , 1.        , 0.27927928, 0.56122449],\n",
              "       [0.30653266, 1.        , 0.01923077, 0.27927928, 0.55102041],\n",
              "       [0.31155779, 0.        , 0.94230769, 0.28828829, 0.52040816],\n",
              "       [0.31658291, 0.        , 0.69230769, 0.28828829, 0.59183673],\n",
              "       [0.32160804, 1.        , 0.86538462, 0.2972973 , 0.51020408],\n",
              "       [0.32663317, 1.        , 0.        , 0.2972973 , 0.59183673],\n",
              "       [0.33165829, 0.        , 0.48076923, 0.2972973 , 0.5       ],\n",
              "       [0.33668342, 0.        , 0.96153846, 0.2972973 , 0.47959184],\n",
              "       [0.34170854, 1.        , 0.01923077, 0.2972973 , 0.59183673],\n",
              "       [0.34673367, 0.        , 0.26923077, 0.2972973 , 0.46938776],\n",
              "       [0.35175879, 1.        , 1.        , 0.30630631, 0.55102041],\n",
              "       [0.35678392, 0.        , 0.55769231, 0.30630631, 0.41836735],\n",
              "       [0.36180905, 0.        , 0.80769231, 0.31531532, 0.48979592],\n",
              "       [0.36683417, 0.        , 0.80769231, 0.31531532, 0.56122449],\n",
              "       [0.3718593 , 1.        , 0.78846154, 0.35135135, 0.46938776],\n",
              "       [0.37688442, 1.        , 0.15384615, 0.35135135, 0.54081633],\n",
              "       [0.38190955, 0.        , 0.51923077, 0.35135135, 0.53061224],\n",
              "       [0.38693467, 1.        , 0.42307692, 0.35135135, 0.47959184],\n",
              "       [0.3919598 , 0.        , 0.09615385, 0.35135135, 0.52040816],\n",
              "       [0.39698492, 0.        , 0.59615385, 0.35135135, 0.41836735],\n",
              "       [0.40201005, 1.        , 0.75      , 0.35135135, 0.51020408],\n",
              "       [0.40703518, 1.        , 0.38461538, 0.35135135, 0.55102041],\n",
              "       [0.4120603 , 1.        , 0.94230769, 0.35135135, 0.40816327],\n",
              "       [0.41708543, 0.        , 0.53846154, 0.35135135, 0.43877551],\n",
              "       [0.42211055, 0.        , 0.05769231, 0.35135135, 0.57142857],\n",
              "       [0.42713568, 1.        , 0.57692308, 0.35135135, 0.45918367],\n",
              "       [0.4321608 , 0.        , 0.71153846, 0.37837838, 0.58163265],\n",
              "       [0.43718593, 0.        , 0.07692308, 0.37837838, 0.55102041],\n",
              "       [0.44221106, 0.        , 0.30769231, 0.38738739, 0.60204082],\n",
              "       [0.44723618, 0.        , 0.61538462, 0.38738739, 0.45918367],\n",
              "       [0.45226131, 0.        , 0.96153846, 0.3963964 , 0.55102041],\n",
              "       [0.45728643, 1.        , 0.        , 0.3963964 , 0.40816327],\n",
              "       [0.46231156, 1.        , 0.57692308, 0.40540541, 0.48979592],\n",
              "       [0.46733668, 0.        , 0.42307692, 0.40540541, 0.39795918],\n",
              "       [0.47236181, 0.        , 0.26923077, 0.40540541, 0.41836735],\n",
              "       [0.47738693, 1.        , 0.11538462, 0.40540541, 0.52040816],\n",
              "       [0.48241206, 0.        , 0.55769231, 0.40540541, 0.46938776],\n",
              "       [0.48743719, 0.        , 0.17307692, 0.40540541, 0.5       ],\n",
              "       [0.49246231, 1.        , 0.57692308, 0.41441441, 0.41836735],\n",
              "       [0.49748744, 1.        , 0.03846154, 0.41441441, 0.48979592],\n",
              "       [0.50251256, 0.        , 0.09615385, 0.42342342, 0.40816327],\n",
              "       [0.50753769, 0.        , 0.59615385, 0.42342342, 0.47959184],\n",
              "       [0.51256281, 1.        , 0.94230769, 0.42342342, 0.59183673],\n",
              "       [0.51758794, 1.        , 0.15384615, 0.42342342, 0.55102041],\n",
              "       [0.52261307, 1.        , 0.59615385, 0.42342342, 0.56122449],\n",
              "       [0.52763819, 0.        , 0.05769231, 0.42342342, 0.41836735],\n",
              "       [0.53266332, 0.        , 0.92307692, 0.43243243, 0.5       ],\n",
              "       [0.53768844, 1.        , 0.69230769, 0.43243243, 0.45918367],\n",
              "       [0.54271357, 1.        , 0.96153846, 0.43243243, 0.42857143],\n",
              "       [0.54773869, 1.        , 0.92307692, 0.43243243, 0.47959184],\n",
              "       [0.55276382, 1.        , 0.90384615, 0.43243243, 0.52040816],\n",
              "       [0.55778894, 0.        , 0.01923077, 0.43243243, 0.54081633],\n",
              "       [0.56281407, 0.        , 0.38461538, 0.44144144, 0.41836735],\n",
              "       [0.5678392 , 1.        , 0.01923077, 0.44144144, 0.45918367],\n",
              "       [0.57286432, 0.        , 0.        , 0.45045045, 0.47959184],\n",
              "       [0.57788945, 0.        , 0.01923077, 0.45045045, 0.5       ],\n",
              "       [0.58291457, 0.        , 0.86538462, 0.45045045, 0.42857143],\n",
              "       [0.5879397 , 0.        , 0.59615385, 0.45045045, 0.59183673],\n",
              "       [0.59296482, 0.        , 0.63461538, 0.46846847, 0.42857143],\n",
              "       [0.59798995, 0.        , 0.61538462, 0.46846847, 0.57142857],\n",
              "       [0.60301508, 1.        , 0.17307692, 0.46846847, 0.56122449],\n",
              "       [0.6080402 , 0.        , 0.38461538, 0.46846847, 0.39795918],\n",
              "       [0.61306533, 0.        , 0.42307692, 0.48648649, 0.58163265],\n",
              "       [0.61809045, 1.        , 0.40384615, 0.48648649, 0.91836735],\n",
              "       [0.62311558, 0.        , 0.09615385, 0.4954955 , 0.28571429],\n",
              "       [0.6281407 , 0.        , 0.25      , 0.4954955 , 0.7755102 ],\n",
              "       [0.63316583, 1.        , 0.48076923, 0.5045045 , 0.34693878],\n",
              "       [0.63819095, 1.        , 0.42307692, 0.5045045 , 0.95918367],\n",
              "       [0.64321608, 1.        , 0.78846154, 0.5045045 , 0.10204082],\n",
              "       [0.64824121, 1.        , 0.38461538, 0.5045045 , 0.75510204],\n",
              "       [0.65326633, 1.        , 0.55769231, 0.5045045 , 0.08163265],\n",
              "       [0.65829146, 1.        , 0.40384615, 0.5045045 , 0.75510204],\n",
              "       [0.66331658, 0.        , 0.13461538, 0.51351351, 0.33673469],\n",
              "       [0.66834171, 0.        , 0.25      , 0.51351351, 0.71428571],\n",
              "       [0.67336683, 1.        , 0.03846154, 0.52252252, 0.04081633],\n",
              "       [0.67839196, 0.        , 0.21153846, 0.52252252, 0.8877551 ],\n",
              "       [0.68341709, 0.        , 0.5       , 0.52252252, 0.06122449],\n",
              "       [0.68844221, 1.        , 0.26923077, 0.52252252, 0.73469388],\n",
              "       [0.69346734, 1.        , 0.01923077, 0.53153153, 0.09183673],\n",
              "       [0.69849246, 0.        , 0.32692308, 0.53153153, 0.7244898 ],\n",
              "       [0.70351759, 0.        , 0.75      , 0.54054054, 0.04081633],\n",
              "       [0.70854271, 1.        , 0.26923077, 0.54054054, 0.93877551],\n",
              "       [0.71356784, 0.        , 0.19230769, 0.54954955, 0.39795918],\n",
              "       [0.71859296, 0.        , 0.26923077, 0.54954955, 0.87755102],\n",
              "       [0.72361809, 1.        , 0.13461538, 0.55855856, 0.1122449 ],\n",
              "       [0.72864322, 1.        , 0.19230769, 0.55855856, 0.97959184],\n",
              "       [0.73366834, 1.        , 0.57692308, 0.55855856, 0.35714286],\n",
              "       [0.73869347, 0.        , 0.26923077, 0.55855856, 0.74489796],\n",
              "       [0.74371859, 0.        , 0.30769231, 0.56756757, 0.21428571],\n",
              "       [0.74874372, 1.        , 0.30769231, 0.56756757, 0.90816327],\n",
              "       [0.75376884, 1.        , 0.48076923, 0.56756757, 0.16326531],\n",
              "       [0.75879397, 1.        , 0.40384615, 0.56756757, 0.8877551 ],\n",
              "       [0.7638191 , 0.        , 0.5       , 0.56756757, 0.19387755],\n",
              "       [0.76884422, 0.        , 0.38461538, 0.56756757, 0.76530612],\n",
              "       [0.77386935, 0.        , 0.55769231, 0.56756757, 0.15306122],\n",
              "       [0.77889447, 0.        , 0.17307692, 0.56756757, 0.89795918],\n",
              "       [0.7839196 , 1.        , 0.36538462, 0.56756757, 0.        ],\n",
              "       [0.78894472, 0.        , 0.23076923, 0.56756757, 0.78571429],\n",
              "       [0.79396985, 1.        , 0.30769231, 0.56756757, 0.        ],\n",
              "       [0.79899497, 0.        , 0.23076923, 0.56756757, 0.73469388],\n",
              "       [0.8040201 , 0.        , 0.73076923, 0.57657658, 0.34693878],\n",
              "       [0.80904523, 0.        , 0.21153846, 0.57657658, 0.83673469],\n",
              "       [0.81407035, 1.        , 0.01923077, 0.59459459, 0.04081633],\n",
              "       [0.81909548, 0.        , 0.25      , 0.59459459, 0.93877551],\n",
              "       [0.8241206 , 1.        , 0.61538462, 0.63063063, 0.25510204],\n",
              "       [0.82914573, 0.        , 0.34615385, 0.63063063, 0.75510204],\n",
              "       [0.83417085, 1.        , 0.46153846, 0.63963964, 0.19387755],\n",
              "       [0.83919598, 0.        , 0.28846154, 0.63963964, 0.95918367],\n",
              "       [0.84422111, 0.        , 0.34615385, 0.64864865, 0.26530612],\n",
              "       [0.84924623, 1.        , 0.26923077, 0.64864865, 0.63265306],\n",
              "       [0.85427136, 1.        , 0.42307692, 0.64864865, 0.12244898],\n",
              "       [0.85929648, 1.        , 0.19230769, 0.64864865, 0.75510204],\n",
              "       [0.86432161, 1.        , 0.34615385, 0.64864865, 0.09183673],\n",
              "       [0.86934673, 1.        , 0.34615385, 0.64864865, 0.92857143],\n",
              "       [0.87437186, 0.        , 0.65384615, 0.65765766, 0.12244898],\n",
              "       [0.87939698, 0.        , 0.23076923, 0.65765766, 0.86734694],\n",
              "       [0.88442211, 1.        , 0.76923077, 0.65765766, 0.14285714],\n",
              "       [0.88944724, 1.        , 0.17307692, 0.65765766, 0.69387755],\n",
              "       [0.89447236, 1.        , 0.78846154, 0.7027027 , 0.13265306],\n",
              "       [0.89949749, 1.        , 0.32692308, 0.7027027 , 0.90816327],\n",
              "       [0.90452261, 0.        , 0.36538462, 0.73873874, 0.31632653],\n",
              "       [0.90954774, 0.        , 0.26923077, 0.73873874, 0.86734694],\n",
              "       [0.91457286, 1.        , 0.53846154, 0.74774775, 0.14285714],\n",
              "       [0.91959799, 0.        , 0.21153846, 0.74774775, 0.8877551 ],\n",
              "       [0.92462312, 0.        , 0.44230769, 0.75675676, 0.3877551 ],\n",
              "       [0.92964824, 1.        , 0.23076923, 0.75675676, 0.97959184],\n",
              "       [0.93467337, 0.        , 0.69230769, 0.77477477, 0.23469388],\n",
              "       [0.93969849, 1.        , 0.19230769, 0.77477477, 0.68367347],\n",
              "       [0.94472362, 0.        , 0.44230769, 0.79279279, 0.16326531],\n",
              "       [0.94974874, 0.        , 0.34615385, 0.79279279, 0.85714286],\n",
              "       [0.95477387, 0.        , 0.30769231, 0.79279279, 0.2244898 ],\n",
              "       [0.95979899, 0.        , 0.26923077, 0.79279279, 0.69387755],\n",
              "       [0.96482412, 1.        , 0.28846154, 0.88288288, 0.07142857],\n",
              "       [0.96984925, 0.        , 0.38461538, 0.88288288, 0.91836735],\n",
              "       [0.97487437, 0.        , 0.55769231, 0.94594595, 0.15306122],\n",
              "       [0.9798995 , 0.        , 0.32692308, 0.94594595, 0.79591837],\n",
              "       [0.98492462, 0.        , 0.51923077, 1.        , 0.2755102 ],\n",
              "       [0.98994975, 1.        , 0.26923077, 1.        , 0.74489796],\n",
              "       [0.99497487, 1.        , 0.26923077, 0.41891892, 0.17346939],\n",
              "       [1.        , 1.        , 0.23076923, 0.41891892, 0.83673469]])"
            ]
          },
          "metadata": {},
          "execution_count": 53
        }
      ]
    },
    {
      "cell_type": "code",
      "source": [
        "from sklearn.cluster import KMeans\n",
        "KM=KMeans()\n",
        "cluster = KM.fit_predict(x_scaled)"
      ],
      "metadata": {
        "id": "0wzM85SS1NuX"
      },
      "execution_count": 54,
      "outputs": []
    },
    {
      "cell_type": "code",
      "source": [
        "cluster"
      ],
      "metadata": {
        "colab": {
          "base_uri": "https://localhost:8080/"
        },
        "id": "_zIVZ9VI1SU2",
        "outputId": "95206caf-5f36-46c4-9d9d-2686b25a35f5"
      },
      "execution_count": 55,
      "outputs": [
        {
          "output_type": "execute_result",
          "data": {
            "text/plain": [
              "array([4, 4, 0, 0, 0, 0, 2, 0, 1, 0, 1, 0, 2, 0, 1, 4, 0, 4, 1, 0, 4, 4,\n",
              "       2, 4, 2, 4, 2, 4, 2, 0, 1, 0, 1, 4, 2, 0, 2, 0, 2, 0, 2, 4, 1, 0,\n",
              "       2, 0, 2, 0, 0, 0, 2, 4, 0, 1, 2, 1, 2, 1, 0, 1, 1, 4, 2, 2, 1, 4,\n",
              "       2, 2, 4, 0, 1, 2, 2, 2, 1, 4, 2, 1, 0, 2, 1, 4, 1, 2, 0, 1, 2, 0,\n",
              "       0, 2, 2, 4, 1, 2, 0, 4, 2, 0, 1, 4, 0, 2, 1, 4, 1, 0, 2, 1, 1, 1,\n",
              "       1, 0, 2, 4, 0, 0, 2, 2, 2, 2, 6, 5, 3, 6, 5, 3, 7, 6, 7, 6, 7, 6,\n",
              "       5, 3, 7, 3, 5, 6, 7, 3, 5, 6, 5, 3, 7, 6, 7, 3, 5, 6, 7, 6, 5, 3,\n",
              "       5, 3, 7, 3, 7, 3, 5, 3, 7, 3, 7, 3, 7, 3, 5, 6, 7, 6, 7, 6, 5, 3,\n",
              "       7, 6, 7, 6, 5, 3, 7, 3, 5, 6, 5, 6, 5, 3, 5, 3, 7, 3, 5, 3, 5, 6,\n",
              "       7, 6], dtype=int32)"
            ]
          },
          "metadata": {},
          "execution_count": 55
        }
      ]
    },
    {
      "cell_type": "code",
      "source": [
        "value = data.columns"
      ],
      "metadata": {
        "id": "sAAHWYJl1UBp"
      },
      "execution_count": 56,
      "outputs": []
    },
    {
      "cell_type": "code",
      "source": [
        "value"
      ],
      "metadata": {
        "colab": {
          "base_uri": "https://localhost:8080/"
        },
        "id": "MXT1eBY_1WGi",
        "outputId": "21ca04b5-2253-4980-8cb9-f9a223574b75"
      },
      "execution_count": 57,
      "outputs": [
        {
          "output_type": "execute_result",
          "data": {
            "text/plain": [
              "Index(['CustomerID', 'Gender', 'Age', 'Annual Income (k$)',\n",
              "       'Spending Score (1-100)'],\n",
              "      dtype='object')"
            ]
          },
          "metadata": {},
          "execution_count": 57
        }
      ]
    },
    {
      "cell_type": "code",
      "source": [
        "data1 = pd.DataFrame(x_scaled, columns = value)"
      ],
      "metadata": {
        "id": "bGvfmksE1X8Q"
      },
      "execution_count": 58,
      "outputs": []
    },
    {
      "cell_type": "code",
      "source": [
        "data1"
      ],
      "metadata": {
        "colab": {
          "base_uri": "https://localhost:8080/",
          "height": 423
        },
        "id": "tcPL49Xo1cMV",
        "outputId": "5229faf2-5eb6-4e6b-84d4-ac73d12b8491"
      },
      "execution_count": 59,
      "outputs": [
        {
          "output_type": "execute_result",
          "data": {
            "text/plain": [
              "     CustomerID  Gender       Age  Annual Income (k$)  Spending Score (1-100)\n",
              "0      0.000000     1.0  0.019231            0.000000                0.387755\n",
              "1      0.005025     1.0  0.057692            0.000000                0.816327\n",
              "2      0.010050     0.0  0.038462            0.009009                0.051020\n",
              "3      0.015075     0.0  0.096154            0.009009                0.775510\n",
              "4      0.020101     0.0  0.250000            0.018018                0.397959\n",
              "..          ...     ...       ...                 ...                     ...\n",
              "195    0.979899     0.0  0.326923            0.945946                0.795918\n",
              "196    0.984925     0.0  0.519231            1.000000                0.275510\n",
              "197    0.989950     1.0  0.269231            1.000000                0.744898\n",
              "198    0.994975     1.0  0.269231            0.418919                0.173469\n",
              "199    1.000000     1.0  0.230769            0.418919                0.836735\n",
              "\n",
              "[200 rows x 5 columns]"
            ],
            "text/html": [
              "\n",
              "  <div id=\"df-5b7339f4-9f2c-44f7-af8a-1e1782aaaeea\">\n",
              "    <div class=\"colab-df-container\">\n",
              "      <div>\n",
              "<style scoped>\n",
              "    .dataframe tbody tr th:only-of-type {\n",
              "        vertical-align: middle;\n",
              "    }\n",
              "\n",
              "    .dataframe tbody tr th {\n",
              "        vertical-align: top;\n",
              "    }\n",
              "\n",
              "    .dataframe thead th {\n",
              "        text-align: right;\n",
              "    }\n",
              "</style>\n",
              "<table border=\"1\" class=\"dataframe\">\n",
              "  <thead>\n",
              "    <tr style=\"text-align: right;\">\n",
              "      <th></th>\n",
              "      <th>CustomerID</th>\n",
              "      <th>Gender</th>\n",
              "      <th>Age</th>\n",
              "      <th>Annual Income (k$)</th>\n",
              "      <th>Spending Score (1-100)</th>\n",
              "    </tr>\n",
              "  </thead>\n",
              "  <tbody>\n",
              "    <tr>\n",
              "      <th>0</th>\n",
              "      <td>0.000000</td>\n",
              "      <td>1.0</td>\n",
              "      <td>0.019231</td>\n",
              "      <td>0.000000</td>\n",
              "      <td>0.387755</td>\n",
              "    </tr>\n",
              "    <tr>\n",
              "      <th>1</th>\n",
              "      <td>0.005025</td>\n",
              "      <td>1.0</td>\n",
              "      <td>0.057692</td>\n",
              "      <td>0.000000</td>\n",
              "      <td>0.816327</td>\n",
              "    </tr>\n",
              "    <tr>\n",
              "      <th>2</th>\n",
              "      <td>0.010050</td>\n",
              "      <td>0.0</td>\n",
              "      <td>0.038462</td>\n",
              "      <td>0.009009</td>\n",
              "      <td>0.051020</td>\n",
              "    </tr>\n",
              "    <tr>\n",
              "      <th>3</th>\n",
              "      <td>0.015075</td>\n",
              "      <td>0.0</td>\n",
              "      <td>0.096154</td>\n",
              "      <td>0.009009</td>\n",
              "      <td>0.775510</td>\n",
              "    </tr>\n",
              "    <tr>\n",
              "      <th>4</th>\n",
              "      <td>0.020101</td>\n",
              "      <td>0.0</td>\n",
              "      <td>0.250000</td>\n",
              "      <td>0.018018</td>\n",
              "      <td>0.397959</td>\n",
              "    </tr>\n",
              "    <tr>\n",
              "      <th>...</th>\n",
              "      <td>...</td>\n",
              "      <td>...</td>\n",
              "      <td>...</td>\n",
              "      <td>...</td>\n",
              "      <td>...</td>\n",
              "    </tr>\n",
              "    <tr>\n",
              "      <th>195</th>\n",
              "      <td>0.979899</td>\n",
              "      <td>0.0</td>\n",
              "      <td>0.326923</td>\n",
              "      <td>0.945946</td>\n",
              "      <td>0.795918</td>\n",
              "    </tr>\n",
              "    <tr>\n",
              "      <th>196</th>\n",
              "      <td>0.984925</td>\n",
              "      <td>0.0</td>\n",
              "      <td>0.519231</td>\n",
              "      <td>1.000000</td>\n",
              "      <td>0.275510</td>\n",
              "    </tr>\n",
              "    <tr>\n",
              "      <th>197</th>\n",
              "      <td>0.989950</td>\n",
              "      <td>1.0</td>\n",
              "      <td>0.269231</td>\n",
              "      <td>1.000000</td>\n",
              "      <td>0.744898</td>\n",
              "    </tr>\n",
              "    <tr>\n",
              "      <th>198</th>\n",
              "      <td>0.994975</td>\n",
              "      <td>1.0</td>\n",
              "      <td>0.269231</td>\n",
              "      <td>0.418919</td>\n",
              "      <td>0.173469</td>\n",
              "    </tr>\n",
              "    <tr>\n",
              "      <th>199</th>\n",
              "      <td>1.000000</td>\n",
              "      <td>1.0</td>\n",
              "      <td>0.230769</td>\n",
              "      <td>0.418919</td>\n",
              "      <td>0.836735</td>\n",
              "    </tr>\n",
              "  </tbody>\n",
              "</table>\n",
              "<p>200 rows × 5 columns</p>\n",
              "</div>\n",
              "      <button class=\"colab-df-convert\" onclick=\"convertToInteractive('df-5b7339f4-9f2c-44f7-af8a-1e1782aaaeea')\"\n",
              "              title=\"Convert this dataframe to an interactive table.\"\n",
              "              style=\"display:none;\">\n",
              "        \n",
              "  <svg xmlns=\"http://www.w3.org/2000/svg\" height=\"24px\"viewBox=\"0 0 24 24\"\n",
              "       width=\"24px\">\n",
              "    <path d=\"M0 0h24v24H0V0z\" fill=\"none\"/>\n",
              "    <path d=\"M18.56 5.44l.94 2.06.94-2.06 2.06-.94-2.06-.94-.94-2.06-.94 2.06-2.06.94zm-11 1L8.5 8.5l.94-2.06 2.06-.94-2.06-.94L8.5 2.5l-.94 2.06-2.06.94zm10 10l.94 2.06.94-2.06 2.06-.94-2.06-.94-.94-2.06-.94 2.06-2.06.94z\"/><path d=\"M17.41 7.96l-1.37-1.37c-.4-.4-.92-.59-1.43-.59-.52 0-1.04.2-1.43.59L10.3 9.45l-7.72 7.72c-.78.78-.78 2.05 0 2.83L4 21.41c.39.39.9.59 1.41.59.51 0 1.02-.2 1.41-.59l7.78-7.78 2.81-2.81c.8-.78.8-2.07 0-2.86zM5.41 20L4 18.59l7.72-7.72 1.47 1.35L5.41 20z\"/>\n",
              "  </svg>\n",
              "      </button>\n",
              "      \n",
              "  <style>\n",
              "    .colab-df-container {\n",
              "      display:flex;\n",
              "      flex-wrap:wrap;\n",
              "      gap: 12px;\n",
              "    }\n",
              "\n",
              "    .colab-df-convert {\n",
              "      background-color: #E8F0FE;\n",
              "      border: none;\n",
              "      border-radius: 50%;\n",
              "      cursor: pointer;\n",
              "      display: none;\n",
              "      fill: #1967D2;\n",
              "      height: 32px;\n",
              "      padding: 0 0 0 0;\n",
              "      width: 32px;\n",
              "    }\n",
              "\n",
              "    .colab-df-convert:hover {\n",
              "      background-color: #E2EBFA;\n",
              "      box-shadow: 0px 1px 2px rgba(60, 64, 67, 0.3), 0px 1px 3px 1px rgba(60, 64, 67, 0.15);\n",
              "      fill: #174EA6;\n",
              "    }\n",
              "\n",
              "    [theme=dark] .colab-df-convert {\n",
              "      background-color: #3B4455;\n",
              "      fill: #D2E3FC;\n",
              "    }\n",
              "\n",
              "    [theme=dark] .colab-df-convert:hover {\n",
              "      background-color: #434B5C;\n",
              "      box-shadow: 0px 1px 3px 1px rgba(0, 0, 0, 0.15);\n",
              "      filter: drop-shadow(0px 1px 2px rgba(0, 0, 0, 0.3));\n",
              "      fill: #FFFFFF;\n",
              "    }\n",
              "  </style>\n",
              "\n",
              "      <script>\n",
              "        const buttonEl =\n",
              "          document.querySelector('#df-5b7339f4-9f2c-44f7-af8a-1e1782aaaeea button.colab-df-convert');\n",
              "        buttonEl.style.display =\n",
              "          google.colab.kernel.accessAllowed ? 'block' : 'none';\n",
              "\n",
              "        async function convertToInteractive(key) {\n",
              "          const element = document.querySelector('#df-5b7339f4-9f2c-44f7-af8a-1e1782aaaeea');\n",
              "          const dataTable =\n",
              "            await google.colab.kernel.invokeFunction('convertToInteractive',\n",
              "                                                     [key], {});\n",
              "          if (!dataTable) return;\n",
              "\n",
              "          const docLinkHtml = 'Like what you see? Visit the ' +\n",
              "            '<a target=\"_blank\" href=https://colab.research.google.com/notebooks/data_table.ipynb>data table notebook</a>'\n",
              "            + ' to learn more about interactive tables.';\n",
              "          element.innerHTML = '';\n",
              "          dataTable['output_type'] = 'display_data';\n",
              "          await google.colab.output.renderOutput(dataTable, element);\n",
              "          const docLink = document.createElement('div');\n",
              "          docLink.innerHTML = docLinkHtml;\n",
              "          element.appendChild(docLink);\n",
              "        }\n",
              "      </script>\n",
              "    </div>\n",
              "  </div>\n",
              "  "
            ]
          },
          "metadata": {},
          "execution_count": 59
        }
      ]
    },
    {
      "cell_type": "code",
      "source": [
        "data1['Cluster_value'] = pd.Series(cluster)"
      ],
      "metadata": {
        "id": "kt1zFSmc1de6"
      },
      "execution_count": 60,
      "outputs": []
    },
    {
      "cell_type": "code",
      "source": [
        "data1.head()"
      ],
      "metadata": {
        "colab": {
          "base_uri": "https://localhost:8080/",
          "height": 206
        },
        "id": "znL6-PpN1gej",
        "outputId": "0f6928d6-926b-498a-9ad0-d5ad08b65a35"
      },
      "execution_count": 61,
      "outputs": [
        {
          "output_type": "execute_result",
          "data": {
            "text/plain": [
              "   CustomerID  Gender       Age  Annual Income (k$)  Spending Score (1-100)  \\\n",
              "0    0.000000     1.0  0.019231            0.000000                0.387755   \n",
              "1    0.005025     1.0  0.057692            0.000000                0.816327   \n",
              "2    0.010050     0.0  0.038462            0.009009                0.051020   \n",
              "3    0.015075     0.0  0.096154            0.009009                0.775510   \n",
              "4    0.020101     0.0  0.250000            0.018018                0.397959   \n",
              "\n",
              "   Cluster_value  \n",
              "0              4  \n",
              "1              4  \n",
              "2              0  \n",
              "3              0  \n",
              "4              0  "
            ],
            "text/html": [
              "\n",
              "  <div id=\"df-c2ebb2d1-7139-4704-830c-89c84dfb78b3\">\n",
              "    <div class=\"colab-df-container\">\n",
              "      <div>\n",
              "<style scoped>\n",
              "    .dataframe tbody tr th:only-of-type {\n",
              "        vertical-align: middle;\n",
              "    }\n",
              "\n",
              "    .dataframe tbody tr th {\n",
              "        vertical-align: top;\n",
              "    }\n",
              "\n",
              "    .dataframe thead th {\n",
              "        text-align: right;\n",
              "    }\n",
              "</style>\n",
              "<table border=\"1\" class=\"dataframe\">\n",
              "  <thead>\n",
              "    <tr style=\"text-align: right;\">\n",
              "      <th></th>\n",
              "      <th>CustomerID</th>\n",
              "      <th>Gender</th>\n",
              "      <th>Age</th>\n",
              "      <th>Annual Income (k$)</th>\n",
              "      <th>Spending Score (1-100)</th>\n",
              "      <th>Cluster_value</th>\n",
              "    </tr>\n",
              "  </thead>\n",
              "  <tbody>\n",
              "    <tr>\n",
              "      <th>0</th>\n",
              "      <td>0.000000</td>\n",
              "      <td>1.0</td>\n",
              "      <td>0.019231</td>\n",
              "      <td>0.000000</td>\n",
              "      <td>0.387755</td>\n",
              "      <td>4</td>\n",
              "    </tr>\n",
              "    <tr>\n",
              "      <th>1</th>\n",
              "      <td>0.005025</td>\n",
              "      <td>1.0</td>\n",
              "      <td>0.057692</td>\n",
              "      <td>0.000000</td>\n",
              "      <td>0.816327</td>\n",
              "      <td>4</td>\n",
              "    </tr>\n",
              "    <tr>\n",
              "      <th>2</th>\n",
              "      <td>0.010050</td>\n",
              "      <td>0.0</td>\n",
              "      <td>0.038462</td>\n",
              "      <td>0.009009</td>\n",
              "      <td>0.051020</td>\n",
              "      <td>0</td>\n",
              "    </tr>\n",
              "    <tr>\n",
              "      <th>3</th>\n",
              "      <td>0.015075</td>\n",
              "      <td>0.0</td>\n",
              "      <td>0.096154</td>\n",
              "      <td>0.009009</td>\n",
              "      <td>0.775510</td>\n",
              "      <td>0</td>\n",
              "    </tr>\n",
              "    <tr>\n",
              "      <th>4</th>\n",
              "      <td>0.020101</td>\n",
              "      <td>0.0</td>\n",
              "      <td>0.250000</td>\n",
              "      <td>0.018018</td>\n",
              "      <td>0.397959</td>\n",
              "      <td>0</td>\n",
              "    </tr>\n",
              "  </tbody>\n",
              "</table>\n",
              "</div>\n",
              "      <button class=\"colab-df-convert\" onclick=\"convertToInteractive('df-c2ebb2d1-7139-4704-830c-89c84dfb78b3')\"\n",
              "              title=\"Convert this dataframe to an interactive table.\"\n",
              "              style=\"display:none;\">\n",
              "        \n",
              "  <svg xmlns=\"http://www.w3.org/2000/svg\" height=\"24px\"viewBox=\"0 0 24 24\"\n",
              "       width=\"24px\">\n",
              "    <path d=\"M0 0h24v24H0V0z\" fill=\"none\"/>\n",
              "    <path d=\"M18.56 5.44l.94 2.06.94-2.06 2.06-.94-2.06-.94-.94-2.06-.94 2.06-2.06.94zm-11 1L8.5 8.5l.94-2.06 2.06-.94-2.06-.94L8.5 2.5l-.94 2.06-2.06.94zm10 10l.94 2.06.94-2.06 2.06-.94-2.06-.94-.94-2.06-.94 2.06-2.06.94z\"/><path d=\"M17.41 7.96l-1.37-1.37c-.4-.4-.92-.59-1.43-.59-.52 0-1.04.2-1.43.59L10.3 9.45l-7.72 7.72c-.78.78-.78 2.05 0 2.83L4 21.41c.39.39.9.59 1.41.59.51 0 1.02-.2 1.41-.59l7.78-7.78 2.81-2.81c.8-.78.8-2.07 0-2.86zM5.41 20L4 18.59l7.72-7.72 1.47 1.35L5.41 20z\"/>\n",
              "  </svg>\n",
              "      </button>\n",
              "      \n",
              "  <style>\n",
              "    .colab-df-container {\n",
              "      display:flex;\n",
              "      flex-wrap:wrap;\n",
              "      gap: 12px;\n",
              "    }\n",
              "\n",
              "    .colab-df-convert {\n",
              "      background-color: #E8F0FE;\n",
              "      border: none;\n",
              "      border-radius: 50%;\n",
              "      cursor: pointer;\n",
              "      display: none;\n",
              "      fill: #1967D2;\n",
              "      height: 32px;\n",
              "      padding: 0 0 0 0;\n",
              "      width: 32px;\n",
              "    }\n",
              "\n",
              "    .colab-df-convert:hover {\n",
              "      background-color: #E2EBFA;\n",
              "      box-shadow: 0px 1px 2px rgba(60, 64, 67, 0.3), 0px 1px 3px 1px rgba(60, 64, 67, 0.15);\n",
              "      fill: #174EA6;\n",
              "    }\n",
              "\n",
              "    [theme=dark] .colab-df-convert {\n",
              "      background-color: #3B4455;\n",
              "      fill: #D2E3FC;\n",
              "    }\n",
              "\n",
              "    [theme=dark] .colab-df-convert:hover {\n",
              "      background-color: #434B5C;\n",
              "      box-shadow: 0px 1px 3px 1px rgba(0, 0, 0, 0.15);\n",
              "      filter: drop-shadow(0px 1px 2px rgba(0, 0, 0, 0.3));\n",
              "      fill: #FFFFFF;\n",
              "    }\n",
              "  </style>\n",
              "\n",
              "      <script>\n",
              "        const buttonEl =\n",
              "          document.querySelector('#df-c2ebb2d1-7139-4704-830c-89c84dfb78b3 button.colab-df-convert');\n",
              "        buttonEl.style.display =\n",
              "          google.colab.kernel.accessAllowed ? 'block' : 'none';\n",
              "\n",
              "        async function convertToInteractive(key) {\n",
              "          const element = document.querySelector('#df-c2ebb2d1-7139-4704-830c-89c84dfb78b3');\n",
              "          const dataTable =\n",
              "            await google.colab.kernel.invokeFunction('convertToInteractive',\n",
              "                                                     [key], {});\n",
              "          if (!dataTable) return;\n",
              "\n",
              "          const docLinkHtml = 'Like what you see? Visit the ' +\n",
              "            '<a target=\"_blank\" href=https://colab.research.google.com/notebooks/data_table.ipynb>data table notebook</a>'\n",
              "            + ' to learn more about interactive tables.';\n",
              "          element.innerHTML = '';\n",
              "          dataTable['output_type'] = 'display_data';\n",
              "          await google.colab.output.renderOutput(dataTable, element);\n",
              "          const docLink = document.createElement('div');\n",
              "          docLink.innerHTML = docLinkHtml;\n",
              "          element.appendChild(docLink);\n",
              "        }\n",
              "      </script>\n",
              "    </div>\n",
              "  </div>\n",
              "  "
            ]
          },
          "metadata": {},
          "execution_count": 61
        }
      ]
    },
    {
      "cell_type": "markdown",
      "source": [
        "split the data in X and Y"
      ],
      "metadata": {
        "id": "jH0pRpME1mng"
      }
    },
    {
      "cell_type": "code",
      "source": [
        "y = data1['Cluster_value']\n",
        "data1 = data1.drop(['CustomerID','Cluster_value'], axis = 1)\n",
        "x = data1\n",
        "x"
      ],
      "metadata": {
        "colab": {
          "base_uri": "https://localhost:8080/",
          "height": 423
        },
        "id": "SkuDIPqJ1joY",
        "outputId": "58a53659-1913-42ce-98ec-c2fa86e6b2fd"
      },
      "execution_count": 62,
      "outputs": [
        {
          "output_type": "execute_result",
          "data": {
            "text/plain": [
              "     Gender       Age  Annual Income (k$)  Spending Score (1-100)\n",
              "0       1.0  0.019231            0.000000                0.387755\n",
              "1       1.0  0.057692            0.000000                0.816327\n",
              "2       0.0  0.038462            0.009009                0.051020\n",
              "3       0.0  0.096154            0.009009                0.775510\n",
              "4       0.0  0.250000            0.018018                0.397959\n",
              "..      ...       ...                 ...                     ...\n",
              "195     0.0  0.326923            0.945946                0.795918\n",
              "196     0.0  0.519231            1.000000                0.275510\n",
              "197     1.0  0.269231            1.000000                0.744898\n",
              "198     1.0  0.269231            0.418919                0.173469\n",
              "199     1.0  0.230769            0.418919                0.836735\n",
              "\n",
              "[200 rows x 4 columns]"
            ],
            "text/html": [
              "\n",
              "  <div id=\"df-daf79ffa-3284-4ef6-9a34-c4b1126cdd28\">\n",
              "    <div class=\"colab-df-container\">\n",
              "      <div>\n",
              "<style scoped>\n",
              "    .dataframe tbody tr th:only-of-type {\n",
              "        vertical-align: middle;\n",
              "    }\n",
              "\n",
              "    .dataframe tbody tr th {\n",
              "        vertical-align: top;\n",
              "    }\n",
              "\n",
              "    .dataframe thead th {\n",
              "        text-align: right;\n",
              "    }\n",
              "</style>\n",
              "<table border=\"1\" class=\"dataframe\">\n",
              "  <thead>\n",
              "    <tr style=\"text-align: right;\">\n",
              "      <th></th>\n",
              "      <th>Gender</th>\n",
              "      <th>Age</th>\n",
              "      <th>Annual Income (k$)</th>\n",
              "      <th>Spending Score (1-100)</th>\n",
              "    </tr>\n",
              "  </thead>\n",
              "  <tbody>\n",
              "    <tr>\n",
              "      <th>0</th>\n",
              "      <td>1.0</td>\n",
              "      <td>0.019231</td>\n",
              "      <td>0.000000</td>\n",
              "      <td>0.387755</td>\n",
              "    </tr>\n",
              "    <tr>\n",
              "      <th>1</th>\n",
              "      <td>1.0</td>\n",
              "      <td>0.057692</td>\n",
              "      <td>0.000000</td>\n",
              "      <td>0.816327</td>\n",
              "    </tr>\n",
              "    <tr>\n",
              "      <th>2</th>\n",
              "      <td>0.0</td>\n",
              "      <td>0.038462</td>\n",
              "      <td>0.009009</td>\n",
              "      <td>0.051020</td>\n",
              "    </tr>\n",
              "    <tr>\n",
              "      <th>3</th>\n",
              "      <td>0.0</td>\n",
              "      <td>0.096154</td>\n",
              "      <td>0.009009</td>\n",
              "      <td>0.775510</td>\n",
              "    </tr>\n",
              "    <tr>\n",
              "      <th>4</th>\n",
              "      <td>0.0</td>\n",
              "      <td>0.250000</td>\n",
              "      <td>0.018018</td>\n",
              "      <td>0.397959</td>\n",
              "    </tr>\n",
              "    <tr>\n",
              "      <th>...</th>\n",
              "      <td>...</td>\n",
              "      <td>...</td>\n",
              "      <td>...</td>\n",
              "      <td>...</td>\n",
              "    </tr>\n",
              "    <tr>\n",
              "      <th>195</th>\n",
              "      <td>0.0</td>\n",
              "      <td>0.326923</td>\n",
              "      <td>0.945946</td>\n",
              "      <td>0.795918</td>\n",
              "    </tr>\n",
              "    <tr>\n",
              "      <th>196</th>\n",
              "      <td>0.0</td>\n",
              "      <td>0.519231</td>\n",
              "      <td>1.000000</td>\n",
              "      <td>0.275510</td>\n",
              "    </tr>\n",
              "    <tr>\n",
              "      <th>197</th>\n",
              "      <td>1.0</td>\n",
              "      <td>0.269231</td>\n",
              "      <td>1.000000</td>\n",
              "      <td>0.744898</td>\n",
              "    </tr>\n",
              "    <tr>\n",
              "      <th>198</th>\n",
              "      <td>1.0</td>\n",
              "      <td>0.269231</td>\n",
              "      <td>0.418919</td>\n",
              "      <td>0.173469</td>\n",
              "    </tr>\n",
              "    <tr>\n",
              "      <th>199</th>\n",
              "      <td>1.0</td>\n",
              "      <td>0.230769</td>\n",
              "      <td>0.418919</td>\n",
              "      <td>0.836735</td>\n",
              "    </tr>\n",
              "  </tbody>\n",
              "</table>\n",
              "<p>200 rows × 4 columns</p>\n",
              "</div>\n",
              "      <button class=\"colab-df-convert\" onclick=\"convertToInteractive('df-daf79ffa-3284-4ef6-9a34-c4b1126cdd28')\"\n",
              "              title=\"Convert this dataframe to an interactive table.\"\n",
              "              style=\"display:none;\">\n",
              "        \n",
              "  <svg xmlns=\"http://www.w3.org/2000/svg\" height=\"24px\"viewBox=\"0 0 24 24\"\n",
              "       width=\"24px\">\n",
              "    <path d=\"M0 0h24v24H0V0z\" fill=\"none\"/>\n",
              "    <path d=\"M18.56 5.44l.94 2.06.94-2.06 2.06-.94-2.06-.94-.94-2.06-.94 2.06-2.06.94zm-11 1L8.5 8.5l.94-2.06 2.06-.94-2.06-.94L8.5 2.5l-.94 2.06-2.06.94zm10 10l.94 2.06.94-2.06 2.06-.94-2.06-.94-.94-2.06-.94 2.06-2.06.94z\"/><path d=\"M17.41 7.96l-1.37-1.37c-.4-.4-.92-.59-1.43-.59-.52 0-1.04.2-1.43.59L10.3 9.45l-7.72 7.72c-.78.78-.78 2.05 0 2.83L4 21.41c.39.39.9.59 1.41.59.51 0 1.02-.2 1.41-.59l7.78-7.78 2.81-2.81c.8-.78.8-2.07 0-2.86zM5.41 20L4 18.59l7.72-7.72 1.47 1.35L5.41 20z\"/>\n",
              "  </svg>\n",
              "      </button>\n",
              "      \n",
              "  <style>\n",
              "    .colab-df-container {\n",
              "      display:flex;\n",
              "      flex-wrap:wrap;\n",
              "      gap: 12px;\n",
              "    }\n",
              "\n",
              "    .colab-df-convert {\n",
              "      background-color: #E8F0FE;\n",
              "      border: none;\n",
              "      border-radius: 50%;\n",
              "      cursor: pointer;\n",
              "      display: none;\n",
              "      fill: #1967D2;\n",
              "      height: 32px;\n",
              "      padding: 0 0 0 0;\n",
              "      width: 32px;\n",
              "    }\n",
              "\n",
              "    .colab-df-convert:hover {\n",
              "      background-color: #E2EBFA;\n",
              "      box-shadow: 0px 1px 2px rgba(60, 64, 67, 0.3), 0px 1px 3px 1px rgba(60, 64, 67, 0.15);\n",
              "      fill: #174EA6;\n",
              "    }\n",
              "\n",
              "    [theme=dark] .colab-df-convert {\n",
              "      background-color: #3B4455;\n",
              "      fill: #D2E3FC;\n",
              "    }\n",
              "\n",
              "    [theme=dark] .colab-df-convert:hover {\n",
              "      background-color: #434B5C;\n",
              "      box-shadow: 0px 1px 3px 1px rgba(0, 0, 0, 0.15);\n",
              "      filter: drop-shadow(0px 1px 2px rgba(0, 0, 0, 0.3));\n",
              "      fill: #FFFFFF;\n",
              "    }\n",
              "  </style>\n",
              "\n",
              "      <script>\n",
              "        const buttonEl =\n",
              "          document.querySelector('#df-daf79ffa-3284-4ef6-9a34-c4b1126cdd28 button.colab-df-convert');\n",
              "        buttonEl.style.display =\n",
              "          google.colab.kernel.accessAllowed ? 'block' : 'none';\n",
              "\n",
              "        async function convertToInteractive(key) {\n",
              "          const element = document.querySelector('#df-daf79ffa-3284-4ef6-9a34-c4b1126cdd28');\n",
              "          const dataTable =\n",
              "            await google.colab.kernel.invokeFunction('convertToInteractive',\n",
              "                                                     [key], {});\n",
              "          if (!dataTable) return;\n",
              "\n",
              "          const docLinkHtml = 'Like what you see? Visit the ' +\n",
              "            '<a target=\"_blank\" href=https://colab.research.google.com/notebooks/data_table.ipynb>data table notebook</a>'\n",
              "            + ' to learn more about interactive tables.';\n",
              "          element.innerHTML = '';\n",
              "          dataTable['output_type'] = 'display_data';\n",
              "          await google.colab.output.renderOutput(dataTable, element);\n",
              "          const docLink = document.createElement('div');\n",
              "          docLink.innerHTML = docLinkHtml;\n",
              "          element.appendChild(docLink);\n",
              "        }\n",
              "      </script>\n",
              "    </div>\n",
              "  </div>\n",
              "  "
            ]
          },
          "metadata": {},
          "execution_count": 62
        }
      ]
    },
    {
      "cell_type": "code",
      "source": [
        "y"
      ],
      "metadata": {
        "colab": {
          "base_uri": "https://localhost:8080/"
        },
        "id": "hSa4Gf9U1pUJ",
        "outputId": "0c0e8f19-d79f-4c05-c698-bdaaf3703af6"
      },
      "execution_count": 63,
      "outputs": [
        {
          "output_type": "execute_result",
          "data": {
            "text/plain": [
              "0      4\n",
              "1      4\n",
              "2      0\n",
              "3      0\n",
              "4      0\n",
              "      ..\n",
              "195    3\n",
              "196    5\n",
              "197    6\n",
              "198    7\n",
              "199    6\n",
              "Name: Cluster_value, Length: 200, dtype: int32"
            ]
          },
          "metadata": {},
          "execution_count": 63
        }
      ]
    },
    {
      "cell_type": "markdown",
      "source": [
        "Split x and y into Training and Testing"
      ],
      "metadata": {
        "id": "kuQExRTJ1vf5"
      }
    },
    {
      "cell_type": "code",
      "source": [
        "from sklearn.model_selection import train_test_split\n",
        "x_train, x_test, y_train, y_test = train_test_split(x_scaled, y, test_size = 0.3, random_state = 0)"
      ],
      "metadata": {
        "id": "2rJdFjNu1s74"
      },
      "execution_count": 64,
      "outputs": []
    },
    {
      "cell_type": "code",
      "source": [
        "x_train"
      ],
      "metadata": {
        "colab": {
          "base_uri": "https://localhost:8080/"
        },
        "id": "l2vaRurg1x5p",
        "outputId": "d0479553-2219-480c-b01a-ac3417c661ae"
      },
      "execution_count": 65,
      "outputs": [
        {
          "output_type": "execute_result",
          "data": {
            "text/plain": [
              "array([[0.65829146, 1.        , 0.40384615, 0.5045045 , 0.75510204],\n",
              "       [0.48241206, 0.        , 0.55769231, 0.40540541, 0.46938776],\n",
              "       [0.90954774, 0.        , 0.26923077, 0.73873874, 0.86734694],\n",
              "       [0.09547739, 0.        , 0.32692308, 0.07207207, 0.98979592],\n",
              "       [0.76884422, 0.        , 0.38461538, 0.56756757, 0.76530612],\n",
              "       [0.46231156, 1.        , 0.57692308, 0.40540541, 0.48979592],\n",
              "       [0.27135678, 0.        , 0.61538462, 0.25225225, 0.44897959],\n",
              "       [0.81909548, 0.        , 0.25      , 0.59459459, 0.93877551],\n",
              "       [0.25628141, 1.        , 0.28846154, 0.24324324, 0.60204082],\n",
              "       [0.4321608 , 0.        , 0.71153846, 0.37837838, 0.58163265],\n",
              "       [0.69849246, 0.        , 0.32692308, 0.53153153, 0.7244898 ],\n",
              "       [0.45226131, 0.        , 0.96153846, 0.3963964 , 0.55102041],\n",
              "       [0.68844221, 1.        , 0.26923077, 0.52252252, 0.73469388],\n",
              "       [0.50753769, 0.        , 0.59615385, 0.42342342, 0.47959184],\n",
              "       [0.72361809, 1.        , 0.13461538, 0.55855856, 0.1122449 ],\n",
              "       [0.44723618, 0.        , 0.61538462, 0.38738739, 0.45918367],\n",
              "       [0.54773869, 1.        , 0.92307692, 0.43243243, 0.47959184],\n",
              "       [0.07035176, 1.        , 0.36538462, 0.04504505, 0.12244898],\n",
              "       [0.13567839, 1.        , 0.32692308, 0.11711712, 0.6122449 ],\n",
              "       [0.70854271, 1.        , 0.26923077, 0.54054054, 0.93877551],\n",
              "       [0.93969849, 1.        , 0.19230769, 0.77477477, 0.68367347],\n",
              "       [0.23115578, 0.        , 0.61538462, 0.22522523, 0.55102041],\n",
              "       [0.69346734, 1.        , 0.01923077, 0.53153153, 0.09183673],\n",
              "       [0.9798995 , 0.        , 0.32692308, 0.94594595, 0.79591837],\n",
              "       [0.54271357, 1.        , 0.96153846, 0.43243243, 0.42857143],\n",
              "       [0.31155779, 0.        , 0.94230769, 0.28828829, 0.52040816],\n",
              "       [0.01005025, 0.        , 0.03846154, 0.00900901, 0.05102041],\n",
              "       [0.29648241, 1.        , 0.67307692, 0.27927928, 0.45918367],\n",
              "       [0.68341709, 0.        , 0.5       , 0.52252252, 0.06122449],\n",
              "       [0.98994975, 1.        , 0.26923077, 1.        , 0.74489796],\n",
              "       [0.2160804 , 0.        , 0.25      , 0.21621622, 0.6122449 ],\n",
              "       [0.05025126, 1.        , 0.94230769, 0.03603604, 0.13265306],\n",
              "       [0.97487437, 0.        , 0.55769231, 0.94594595, 0.15306122],\n",
              "       [0.36683417, 0.        , 0.80769231, 0.31531532, 0.56122449],\n",
              "       [0.98492462, 0.        , 0.51923077, 1.        , 0.2755102 ],\n",
              "       [0.89447236, 1.        , 0.78846154, 0.7027027 , 0.13265306],\n",
              "       [0.87939698, 0.        , 0.23076923, 0.65765766, 0.86734694],\n",
              "       [0.63316583, 1.        , 0.48076923, 0.5045045 , 0.34693878],\n",
              "       [0.46733668, 0.        , 0.42307692, 0.40540541, 0.39795918],\n",
              "       [0.56281407, 0.        , 0.38461538, 0.44144144, 0.41836735],\n",
              "       [0.79396985, 1.        , 0.30769231, 0.56756757, 0.        ],\n",
              "       [0.95979899, 0.        , 0.26923077, 0.79279279, 0.69387755],\n",
              "       [0.25125628, 0.        , 0.59615385, 0.24324324, 0.52040816],\n",
              "       [0.        , 1.        , 0.01923077, 0.        , 0.3877551 ],\n",
              "       [0.47236181, 0.        , 0.26923077, 0.40540541, 0.41836735],\n",
              "       [0.55276382, 1.        , 0.90384615, 0.43243243, 0.52040816],\n",
              "       [0.47738693, 1.        , 0.11538462, 0.40540541, 0.52040816],\n",
              "       [0.32160804, 1.        , 0.86538462, 0.2972973 , 0.51020408],\n",
              "       [0.83919598, 0.        , 0.28846154, 0.63963964, 0.95918367],\n",
              "       [0.20603015, 1.        , 0.11538462, 0.20720721, 0.92857143],\n",
              "       [0.34673367, 0.        , 0.26923077, 0.2972973 , 0.46938776],\n",
              "       [0.24623116, 0.        , 0.25      , 0.22522523, 0.41836735],\n",
              "       [0.24120603, 0.        , 0.21153846, 0.22522523, 0.41836735],\n",
              "       [0.42713568, 1.        , 0.57692308, 0.35135135, 0.45918367],\n",
              "       [0.06532663, 0.        , 0.11538462, 0.04504505, 0.7755102 ],\n",
              "       [0.80904523, 0.        , 0.21153846, 0.57657658, 0.83673469],\n",
              "       [0.11557789, 1.        , 0.25      , 0.09009009, 0.73469388],\n",
              "       [0.93467337, 0.        , 0.69230769, 0.77477477, 0.23469388],\n",
              "       [0.67839196, 0.        , 0.21153846, 0.52252252, 0.8877551 ],\n",
              "       [0.10050251, 1.        , 0.32692308, 0.08108108, 0.34693878],\n",
              "       [0.07537688, 1.        , 0.07692308, 0.04504505, 0.79591837],\n",
              "       [0.3919598 , 0.        , 0.09615385, 0.35135135, 0.52040816],\n",
              "       [0.52261307, 1.        , 0.59615385, 0.42342342, 0.56122449],\n",
              "       [0.26130653, 0.        , 0.25      , 0.25225225, 0.54081633],\n",
              "       [0.50251256, 0.        , 0.09615385, 0.42342342, 0.40816327],\n",
              "       [0.38190955, 0.        , 0.51923077, 0.35135135, 0.53061224],\n",
              "       [0.01507538, 0.        , 0.09615385, 0.00900901, 0.7755102 ],\n",
              "       [0.58291457, 0.        , 0.86538462, 0.45045045, 0.42857143],\n",
              "       [0.8241206 , 1.        , 0.61538462, 0.63063063, 0.25510204],\n",
              "       [0.99497487, 1.        , 0.26923077, 0.41891892, 0.17346939],\n",
              "       [0.03015075, 0.        , 0.32692308, 0.02702703, 0.05102041],\n",
              "       [0.34170854, 1.        , 0.01923077, 0.2972973 , 0.59183673],\n",
              "       [0.42211055, 0.        , 0.05769231, 0.35135135, 0.57142857],\n",
              "       [0.6080402 , 0.        , 0.38461538, 0.46846847, 0.39795918],\n",
              "       [0.77889447, 0.        , 0.17307692, 0.56756757, 0.89795918],\n",
              "       [0.85929648, 1.        , 0.19230769, 0.64864865, 0.75510204],\n",
              "       [0.7839196 , 1.        , 0.36538462, 0.56756757, 0.        ],\n",
              "       [0.45728643, 1.        , 0.        , 0.3963964 , 0.40816327],\n",
              "       [1.        , 1.        , 0.23076923, 0.41891892, 0.83673469],\n",
              "       [0.05527638, 0.        , 0.32692308, 0.03603604, 1.        ],\n",
              "       [0.59798995, 0.        , 0.61538462, 0.46846847, 0.57142857],\n",
              "       [0.51256281, 1.        , 0.94230769, 0.42342342, 0.59183673],\n",
              "       [0.1758794 , 0.        , 0.05769231, 0.16216216, 0.81632653],\n",
              "       [0.28643216, 1.        , 0.98076923, 0.26126126, 0.45918367],\n",
              "       [0.32663317, 1.        , 0.        , 0.2972973 , 0.59183673],\n",
              "       [0.00502513, 1.        , 0.05769231, 0.        , 0.81632653],\n",
              "       [0.60301508, 1.        , 0.17307692, 0.46846847, 0.56122449],\n",
              "       [0.81407035, 1.        , 0.01923077, 0.59459459, 0.04081633],\n",
              "       [0.21105528, 1.        , 0.57692308, 0.21621622, 0.35714286],\n",
              "       [0.52763819, 0.        , 0.05769231, 0.42342342, 0.41836735],\n",
              "       [0.66331658, 0.        , 0.13461538, 0.51351351, 0.33673469],\n",
              "       [0.86934673, 1.        , 0.34615385, 0.64864865, 0.92857143],\n",
              "       [0.08542714, 1.        , 0.03846154, 0.05405405, 0.66326531],\n",
              "       [0.19095477, 0.        , 0.34615385, 0.1981982 , 0.25510204],\n",
              "       [0.66834171, 0.        , 0.25      , 0.51351351, 0.71428571],\n",
              "       [0.26633166, 1.        , 0.78846154, 0.25225225, 0.60204082],\n",
              "       [0.78894472, 0.        , 0.23076923, 0.56756757, 0.78571429],\n",
              "       [0.64321608, 1.        , 0.78846154, 0.5045045 , 0.10204082],\n",
              "       [0.17085427, 0.        , 0.59615385, 0.16216216, 0.13265306],\n",
              "       [0.14070352, 0.        , 0.42307692, 0.12612613, 0.30612245],\n",
              "       [0.57286432, 0.        , 0.        , 0.45045045, 0.47959184],\n",
              "       [0.75879397, 1.        , 0.40384615, 0.56756757, 0.8877551 ],\n",
              "       [0.15577889, 0.        , 0.05769231, 0.13513514, 0.73469388],\n",
              "       [0.83417085, 1.        , 0.46153846, 0.63963964, 0.19387755],\n",
              "       [0.63819095, 1.        , 0.42307692, 0.5045045 , 0.95918367],\n",
              "       [0.88442211, 1.        , 0.76923077, 0.65765766, 0.14285714],\n",
              "       [0.16080402, 1.        , 0.67307692, 0.16216216, 0.03061224],\n",
              "       [0.71356784, 0.        , 0.19230769, 0.54954955, 0.39795918],\n",
              "       [0.84924623, 1.        , 0.26923077, 0.64864865, 0.63265306],\n",
              "       [0.73869347, 0.        , 0.26923077, 0.55855856, 0.74489796],\n",
              "       [0.14572864, 0.        , 0.09615385, 0.12612613, 0.87755102],\n",
              "       [0.49748744, 1.        , 0.03846154, 0.41441441, 0.48979592],\n",
              "       [0.4120603 , 1.        , 0.94230769, 0.35135135, 0.40816327],\n",
              "       [0.39698492, 0.        , 0.59615385, 0.35135135, 0.41836735],\n",
              "       [0.57788945, 0.        , 0.01923077, 0.45045045, 0.5       ],\n",
              "       [0.74371859, 0.        , 0.30769231, 0.56756757, 0.21428571],\n",
              "       [0.96984925, 0.        , 0.38461538, 0.88288288, 0.91836735],\n",
              "       [0.36180905, 0.        , 0.80769231, 0.31531532, 0.48979592],\n",
              "       [0.38693467, 1.        , 0.42307692, 0.35135135, 0.47959184],\n",
              "       [0.12562814, 1.        , 0.21153846, 0.11711712, 0.82653061],\n",
              "       [0.82914573, 0.        , 0.34615385, 0.63063063, 0.75510204],\n",
              "       [0.40703518, 1.        , 0.38461538, 0.35135135, 0.55102041],\n",
              "       [0.94472362, 0.        , 0.44230769, 0.79279279, 0.16326531],\n",
              "       [0.87437186, 0.        , 0.65384615, 0.65765766, 0.12244898],\n",
              "       [0.95477387, 0.        , 0.30769231, 0.79279279, 0.2244898 ],\n",
              "       [0.1959799 , 0.        , 0.03846154, 0.1981982 , 0.75510204],\n",
              "       [0.29145729, 0.        , 0.17307692, 0.27927928, 0.51020408],\n",
              "       [0.70351759, 0.        , 0.75      , 0.54054054, 0.04081633],\n",
              "       [0.44221106, 0.        , 0.30769231, 0.38738739, 0.60204082],\n",
              "       [0.35175879, 1.        , 1.        , 0.30630631, 0.55102041],\n",
              "       [0.43718593, 0.        , 0.07692308, 0.37837838, 0.55102041],\n",
              "       [0.18090452, 0.        , 0.46153846, 0.17117117, 0.16326531],\n",
              "       [0.10552764, 1.        , 0.13461538, 0.08108108, 0.73469388],\n",
              "       [0.04522613, 0.        , 0.23076923, 0.03603604, 0.7244898 ],\n",
              "       [0.51758794, 1.        , 0.15384615, 0.42342342, 0.55102041],\n",
              "       [0.33668342, 0.        , 0.96153846, 0.2972973 , 0.47959184],\n",
              "       [0.96482412, 1.        , 0.28846154, 0.88288288, 0.07142857],\n",
              "       [0.5879397 , 0.        , 0.59615385, 0.45045045, 0.59183673],\n",
              "       [0.2361809 , 0.        , 0.17307692, 0.22522523, 0.46938776],\n",
              "       [0.86432161, 1.        , 0.34615385, 0.64864865, 0.09183673]])"
            ]
          },
          "metadata": {},
          "execution_count": 65
        }
      ]
    },
    {
      "cell_type": "code",
      "source": [
        "x_train.shape"
      ],
      "metadata": {
        "colab": {
          "base_uri": "https://localhost:8080/"
        },
        "id": "ANq6JT6H1zpN",
        "outputId": "53777eb3-ef5a-40ed-e7e1-6cbfa492ff47"
      },
      "execution_count": 66,
      "outputs": [
        {
          "output_type": "execute_result",
          "data": {
            "text/plain": [
              "(140, 5)"
            ]
          },
          "metadata": {},
          "execution_count": 66
        }
      ]
    },
    {
      "cell_type": "code",
      "source": [
        "x_test"
      ],
      "metadata": {
        "colab": {
          "base_uri": "https://localhost:8080/"
        },
        "id": "BQV4sqkF13to",
        "outputId": "2100d51c-287a-4261-a85c-b60f0b128a63"
      },
      "execution_count": 67,
      "outputs": [
        {
          "output_type": "execute_result",
          "data": {
            "text/plain": [
              "array([[0.09045226, 1.        , 0.65384615, 0.07207207, 0.28571429],\n",
              "       [0.85427136, 1.        , 0.42307692, 0.64864865, 0.12244898],\n",
              "       [0.53768844, 1.        , 0.69230769, 0.43243243, 0.45918367],\n",
              "       [0.49246231, 1.        , 0.57692308, 0.41441441, 0.41836735],\n",
              "       [0.88944724, 1.        , 0.17307692, 0.65765766, 0.69387755],\n",
              "       [0.91457286, 1.        , 0.53846154, 0.74774775, 0.14285714],\n",
              "       [0.02512563, 0.        , 0.07692308, 0.01801802, 0.76530612],\n",
              "       [0.73366834, 1.        , 0.57692308, 0.55855856, 0.35714286],\n",
              "       [0.06030151, 0.        , 0.76923077, 0.04504505, 0.14285714],\n",
              "       [0.7638191 , 0.        , 0.5       , 0.56756757, 0.19387755],\n",
              "       [0.30653266, 1.        , 0.01923077, 0.27927928, 0.55102041],\n",
              "       [0.6281407 , 0.        , 0.25      , 0.4954955 , 0.7755102 ],\n",
              "       [0.90452261, 0.        , 0.36538462, 0.73873874, 0.31632653],\n",
              "       [0.77386935, 0.        , 0.55769231, 0.56756757, 0.15306122],\n",
              "       [0.40201005, 1.        , 0.75      , 0.35135135, 0.51020408],\n",
              "       [0.03517588, 0.        , 0.09615385, 0.02702703, 0.94897959],\n",
              "       [0.16582915, 1.        , 0.        , 0.16216216, 0.92857143],\n",
              "       [0.65326633, 1.        , 0.55769231, 0.5045045 , 0.08163265],\n",
              "       [0.18592965, 0.        , 0.23076923, 0.17117117, 0.73469388],\n",
              "       [0.3718593 , 1.        , 0.78846154, 0.35135135, 0.46938776],\n",
              "       [0.91959799, 0.        , 0.21153846, 0.74774775, 0.8877551 ],\n",
              "       [0.72864322, 1.        , 0.19230769, 0.55855856, 0.97959184],\n",
              "       [0.22613065, 0.        , 0.11538462, 0.21621622, 0.65306122],\n",
              "       [0.79899497, 0.        , 0.23076923, 0.56756757, 0.73469388],\n",
              "       [0.30150754, 1.        , 1.        , 0.27927928, 0.56122449],\n",
              "       [0.61809045, 1.        , 0.40384615, 0.48648649, 0.91836735],\n",
              "       [0.89949749, 1.        , 0.32692308, 0.7027027 , 0.90816327],\n",
              "       [0.92964824, 1.        , 0.23076923, 0.75675676, 0.97959184],\n",
              "       [0.61306533, 0.        , 0.42307692, 0.48648649, 0.58163265],\n",
              "       [0.22110553, 0.        , 0.59615385, 0.21621622, 0.2755102 ],\n",
              "       [0.08040201, 0.        , 0.32692308, 0.05405405, 0.34693878],\n",
              "       [0.27638191, 1.        , 0.55769231, 0.25225225, 0.40816327],\n",
              "       [0.75376884, 1.        , 0.48076923, 0.56756757, 0.16326531],\n",
              "       [0.55778894, 0.        , 0.01923077, 0.43243243, 0.54081633],\n",
              "       [0.11055276, 0.        , 0.53846154, 0.09009009, 0.04081633],\n",
              "       [0.94974874, 0.        , 0.34615385, 0.79279279, 0.85714286],\n",
              "       [0.64824121, 1.        , 0.38461538, 0.5045045 , 0.75510204],\n",
              "       [0.0201005 , 0.        , 0.25      , 0.01801802, 0.39795918],\n",
              "       [0.41708543, 0.        , 0.53846154, 0.35135135, 0.43877551],\n",
              "       [0.53266332, 0.        , 0.92307692, 0.43243243, 0.5       ],\n",
              "       [0.67336683, 1.        , 0.03846154, 0.52252252, 0.04081633],\n",
              "       [0.33165829, 0.        , 0.48076923, 0.2972973 , 0.5       ],\n",
              "       [0.13065327, 0.        , 0.51923077, 0.11711712, 0.31632653],\n",
              "       [0.5678392 , 1.        , 0.01923077, 0.44144144, 0.45918367],\n",
              "       [0.84422111, 0.        , 0.34615385, 0.64864865, 0.26530612],\n",
              "       [0.31658291, 0.        , 0.69230769, 0.28828829, 0.59183673],\n",
              "       [0.04020101, 1.        , 0.88461538, 0.03603604, 0.02040816],\n",
              "       [0.37688442, 1.        , 0.15384615, 0.35135135, 0.54081633],\n",
              "       [0.59296482, 0.        , 0.63461538, 0.46846847, 0.42857143],\n",
              "       [0.71859296, 0.        , 0.26923077, 0.54954955, 0.87755102],\n",
              "       [0.35678392, 0.        , 0.55769231, 0.30630631, 0.41836735],\n",
              "       [0.62311558, 0.        , 0.09615385, 0.4954955 , 0.28571429],\n",
              "       [0.92462312, 0.        , 0.44230769, 0.75675676, 0.3877551 ],\n",
              "       [0.48743719, 0.        , 0.17307692, 0.40540541, 0.5       ],\n",
              "       [0.74874372, 1.        , 0.30769231, 0.56756757, 0.90816327],\n",
              "       [0.12060302, 0.        , 0.69230769, 0.11711712, 0.13265306],\n",
              "       [0.15075377, 1.        , 0.80769231, 0.13513514, 0.03061224],\n",
              "       [0.8040201 , 0.        , 0.73076923, 0.57657658, 0.34693878],\n",
              "       [0.20100503, 0.        , 0.90384615, 0.20720721, 0.34693878],\n",
              "       [0.28140704, 0.        , 0.63461538, 0.26126126, 0.5       ]])"
            ]
          },
          "metadata": {},
          "execution_count": 67
        }
      ]
    },
    {
      "cell_type": "code",
      "source": [
        "y_train"
      ],
      "metadata": {
        "colab": {
          "base_uri": "https://localhost:8080/"
        },
        "id": "VgQ5LnSU16nV",
        "outputId": "da8986a1-a77a-4443-af8e-6530cd711dc6"
      },
      "execution_count": 68,
      "outputs": [
        {
          "output_type": "execute_result",
          "data": {
            "text/plain": [
              "131    6\n",
              "96     2\n",
              "181    3\n",
              "19     0\n",
              "153    3\n",
              "      ..\n",
              "67     2\n",
              "192    7\n",
              "117    2\n",
              "47     0\n",
              "172    7\n",
              "Name: Cluster_value, Length: 140, dtype: int32"
            ]
          },
          "metadata": {},
          "execution_count": 68
        }
      ]
    },
    {
      "cell_type": "code",
      "source": [
        "y_test"
      ],
      "metadata": {
        "colab": {
          "base_uri": "https://localhost:8080/"
        },
        "id": "5iGm3BgJ2X04",
        "outputId": "0aa9be2b-5eb0-437c-bda5-af52786bb995"
      },
      "execution_count": 69,
      "outputs": [
        {
          "output_type": "execute_result",
          "data": {
            "text/plain": [
              "18     1\n",
              "170    7\n",
              "107    1\n",
              "98     1\n",
              "177    6\n",
              "182    7\n",
              "5      0\n",
              "146    7\n",
              "12     2\n",
              "152    5\n",
              "61     4\n",
              "125    3\n",
              "180    5\n",
              "154    5\n",
              "80     1\n",
              "7      0\n",
              "33     4\n",
              "130    7\n",
              "37     0\n",
              "74     1\n",
              "183    3\n",
              "145    6\n",
              "45     0\n",
              "159    3\n",
              "60     1\n",
              "123    6\n",
              "179    6\n",
              "185    6\n",
              "122    3\n",
              "44     2\n",
              "16     0\n",
              "55     1\n",
              "150    7\n",
              "111    0\n",
              "22     2\n",
              "189    3\n",
              "129    6\n",
              "4      0\n",
              "83     2\n",
              "106    2\n",
              "134    7\n",
              "66     2\n",
              "26     2\n",
              "113    4\n",
              "168    5\n",
              "63     2\n",
              "8      1\n",
              "75     4\n",
              "118    2\n",
              "143    3\n",
              "71     2\n",
              "124    5\n",
              "184    5\n",
              "97     0\n",
              "149    6\n",
              "24     2\n",
              "30     1\n",
              "160    5\n",
              "40     2\n",
              "56     2\n",
              "Name: Cluster_value, dtype: int32"
            ]
          },
          "metadata": {},
          "execution_count": 69
        }
      ]
    },
    {
      "cell_type": "markdown",
      "source": [
        "Building the Model"
      ],
      "metadata": {
        "id": "szIl38or2dim"
      }
    },
    {
      "cell_type": "markdown",
      "source": [
        "Multi linear regression model"
      ],
      "metadata": {
        "id": "tco9wD6-2gJe"
      }
    },
    {
      "cell_type": "code",
      "source": [
        "from sklearn.linear_model import LinearRegression\n",
        "mlr = LinearRegression()\n",
        "mlr.fit(x_train,y_train)"
      ],
      "metadata": {
        "colab": {
          "base_uri": "https://localhost:8080/"
        },
        "id": "L_tIfZVh2aCh",
        "outputId": "a9483d68-0240-4a4c-e6ca-1e212f8cf881"
      },
      "execution_count": 71,
      "outputs": [
        {
          "output_type": "execute_result",
          "data": {
            "text/plain": [
              "LinearRegression()"
            ]
          },
          "metadata": {},
          "execution_count": 71
        }
      ]
    },
    {
      "cell_type": "code",
      "source": [
        "pred = mlr.predict(x_test)"
      ],
      "metadata": {
        "id": "1_8RoBz42iSP"
      },
      "execution_count": 72,
      "outputs": []
    },
    {
      "cell_type": "code",
      "source": [
        "pred"
      ],
      "metadata": {
        "colab": {
          "base_uri": "https://localhost:8080/"
        },
        "id": "3M0a1APK2rAT",
        "outputId": "785e4448-8f5e-4476-ae90-ae0503f8574f"
      },
      "execution_count": 73,
      "outputs": [
        {
          "output_type": "execute_result",
          "data": {
            "text/plain": [
              "array([ 2.19722514,  6.44468475,  3.93022364,  3.9122464 ,  6.07636753,\n",
              "        6.39979942, -0.11670792,  5.25444441,  0.06452509,  3.74741737,\n",
              "        3.61133359,  2.4323964 ,  4.25567899,  3.79659746,  3.06332222,\n",
              "       -0.40402093,  2.37135079,  5.33885369,  0.39799709,  2.87578548,\n",
              "        3.61407368,  4.75586212,  0.85797989,  3.4796382 ,  2.12473591,\n",
              "        3.99292312,  5.45419308,  5.54501921,  2.42177481,  0.74470127,\n",
              "        0.4857574 ,  2.92537557,  5.8264249 ,  2.8471905 ,  0.79347639,\n",
              "        3.55730548,  4.44607993,  0.20385151,  1.52411807,  1.42515815,\n",
              "        6.25578667,  1.07516253,  0.43338557,  5.09303435,  4.18854872,\n",
              "        0.53594288,  2.05369554,  3.72040919,  2.27600846,  2.70093787,\n",
              "        1.24120177,  3.43422648,  4.11384133,  2.29106292,  4.81558614,\n",
              "        0.41723855,  2.63847427,  3.39950871,  0.0652586 ,  0.6057819 ])"
            ]
          },
          "metadata": {},
          "execution_count": 73
        }
      ]
    },
    {
      "cell_type": "code",
      "source": [
        "y_test"
      ],
      "metadata": {
        "colab": {
          "base_uri": "https://localhost:8080/"
        },
        "id": "twBM76bg2yzj",
        "outputId": "f6f5b39e-62af-46b7-e7a0-4b890ee15b14"
      },
      "execution_count": 74,
      "outputs": [
        {
          "output_type": "execute_result",
          "data": {
            "text/plain": [
              "18     1\n",
              "170    7\n",
              "107    1\n",
              "98     1\n",
              "177    6\n",
              "182    7\n",
              "5      0\n",
              "146    7\n",
              "12     2\n",
              "152    5\n",
              "61     4\n",
              "125    3\n",
              "180    5\n",
              "154    5\n",
              "80     1\n",
              "7      0\n",
              "33     4\n",
              "130    7\n",
              "37     0\n",
              "74     1\n",
              "183    3\n",
              "145    6\n",
              "45     0\n",
              "159    3\n",
              "60     1\n",
              "123    6\n",
              "179    6\n",
              "185    6\n",
              "122    3\n",
              "44     2\n",
              "16     0\n",
              "55     1\n",
              "150    7\n",
              "111    0\n",
              "22     2\n",
              "189    3\n",
              "129    6\n",
              "4      0\n",
              "83     2\n",
              "106    2\n",
              "134    7\n",
              "66     2\n",
              "26     2\n",
              "113    4\n",
              "168    5\n",
              "63     2\n",
              "8      1\n",
              "75     4\n",
              "118    2\n",
              "143    3\n",
              "71     2\n",
              "124    5\n",
              "184    5\n",
              "97     0\n",
              "149    6\n",
              "24     2\n",
              "30     1\n",
              "160    5\n",
              "40     2\n",
              "56     2\n",
              "Name: Cluster_value, dtype: int32"
            ]
          },
          "metadata": {},
          "execution_count": 74
        }
      ]
    },
    {
      "cell_type": "markdown",
      "source": [
        "Performance metrics"
      ],
      "metadata": {
        "id": "B7tS9pxc26Ho"
      }
    },
    {
      "cell_type": "code",
      "source": [
        "from sklearn.metrics import r2_score\n",
        "from sklearn.metrics import mean_squared_error"
      ],
      "metadata": {
        "id": "AXZKNKhV225R"
      },
      "execution_count": 75,
      "outputs": []
    },
    {
      "cell_type": "code",
      "source": [
        "mse= mean_squared_error(y_test,pred)\n",
        "mse"
      ],
      "metadata": {
        "colab": {
          "base_uri": "https://localhost:8080/"
        },
        "id": "zZAaz1J228Ui",
        "outputId": "16952c77-c3a2-4d86-da46-c0c570e6b5c6"
      },
      "execution_count": 76,
      "outputs": [
        {
          "output_type": "execute_result",
          "data": {
            "text/plain": [
              "1.7576410604468158"
            ]
          },
          "metadata": {},
          "execution_count": 76
        }
      ]
    },
    {
      "cell_type": "code",
      "source": [
        "rmse = np.sqrt(mse)\n",
        "rmse"
      ],
      "metadata": {
        "colab": {
          "base_uri": "https://localhost:8080/"
        },
        "id": "FitYoWna2-MF",
        "outputId": "fdb60ba5-d54b-4da3-f8fe-e033e511d01b"
      },
      "execution_count": 77,
      "outputs": [
        {
          "output_type": "execute_result",
          "data": {
            "text/plain": [
              "1.3257605592439443"
            ]
          },
          "metadata": {},
          "execution_count": 77
        }
      ]
    },
    {
      "cell_type": "code",
      "source": [
        "r2_score(y_test,pred)"
      ],
      "metadata": {
        "colab": {
          "base_uri": "https://localhost:8080/"
        },
        "id": "rQ3el4dc2__N",
        "outputId": "d79b2a5e-4a49-493d-9165-ea01a27dc19a"
      },
      "execution_count": 78,
      "outputs": [
        {
          "output_type": "execute_result",
          "data": {
            "text/plain": [
              "0.6608325569463691"
            ]
          },
          "metadata": {},
          "execution_count": 78
        }
      ]
    },
    {
      "cell_type": "code",
      "source": [],
      "metadata": {
        "id": "yVB0U0X53Bzg"
      },
      "execution_count": null,
      "outputs": []
    }
  ]
}